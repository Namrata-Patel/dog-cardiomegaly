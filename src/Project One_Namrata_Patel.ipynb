{
 "cells": [
  {
   "cell_type": "markdown",
   "id": "009e8fc2",
   "metadata": {},
   "source": [
    "# 1. Build your own convolutional neural network using pytorch"
   ]
  },
  {
   "cell_type": "code",
   "execution_count": 8,
   "id": "133be475",
   "metadata": {},
   "outputs": [],
   "source": [
    "# Import Necessary Libraries\n",
    "import numpy as np\n",
    "import pandas as pd\n",
    "import matplotlib.pyplot as plt\n",
    "import seaborn as sns\n",
    "from collections import Counter\n",
    "import os\n",
    "import cv2\n",
    "from PIL import Image\n",
    "import torch\n",
    "import torch.nn as nn\n",
    "import torch.optim as optim\n",
    "from torch.utils.data import DataLoader, Dataset, random_split\n",
    "from torchvision import datasets, transforms, models\n",
    "import torch.nn.functional as F\n",
    "from sklearn.model_selection import train_test_split\n",
    "from tqdm import tqdm"
   ]
  },
  {
   "cell_type": "code",
   "execution_count": 9,
   "id": "595b2106",
   "metadata": {},
   "outputs": [
    {
     "data": {
      "text/plain": [
       "'cuda'"
      ]
     },
     "execution_count": 9,
     "metadata": {},
     "output_type": "execute_result"
    }
   ],
   "source": [
    "device = \"cuda\" if torch.cuda.is_available() else \"cpu\"\n",
    "device"
   ]
  },
  {
   "cell_type": "code",
   "execution_count": 3,
   "id": "c78ffa1c",
   "metadata": {},
   "outputs": [],
   "source": []
  },
  {
   "cell_type": "code",
   "execution_count": 10,
   "id": "29fb415b",
   "metadata": {},
   "outputs": [],
   "source": [
    "import torch\n",
    "import torch.nn as nn\n",
    "import torch.nn.functional as F\n",
    "\n",
    "class AttentionBlock(nn.Module):\n",
    "    def __init__(self, channels):\n",
    "        super(AttentionBlock, self).__init__()\n",
    "        self.query_conv = nn.Conv2d(channels, channels // 8, kernel_size=1)\n",
    "        self.key_conv = nn.Conv2d(channels, channels // 8, kernel_size=1)\n",
    "        self.value_conv = nn.Conv2d(channels, channels, kernel_size=1)\n",
    "        self.gamma = nn.Parameter(torch.zeros(1))\n",
    "\n",
    "    def forward(self, x):\n",
    "        batch_size, C, width, height = x.size()\n",
    "        query = self.query_conv(x).view(batch_size, -1, width * height).permute(0, 2, 1)\n",
    "        key = self.key_conv(x).view(batch_size, -1, width * height)\n",
    "        energy = torch.bmm(query, key)\n",
    "        attention = F.softmax(energy, dim=-1)\n",
    "        value = self.value_conv(x).view(batch_size, -1, width * height)\n",
    "        out = torch.bmm(value, attention.permute(0, 2, 1))\n",
    "        out = out.view(batch_size, C, width, height)\n",
    "        out = self.gamma * out + x\n",
    "        return out\n",
    "\n",
    "class CustomCNN(nn.Module):\n",
    "    def __init__(self, num_classes=3):\n",
    "        super(CustomCNN, self).__init__()\n",
    "        self.conv_layers = nn.Sequential(\n",
    "            nn.Conv2d(3, 64, kernel_size=3, padding=1),  # Output: 224x224x64\n",
    "            nn.BatchNorm2d(64),\n",
    "            nn.ReLU(inplace=True),\n",
    "            nn.MaxPool2d(kernel_size=2, stride=2),  # Output: 112x112x64\n",
    "\n",
    "            nn.Conv2d(64, 128, kernel_size=3, padding=1),  # Output: 112x112x128\n",
    "            nn.BatchNorm2d(128),\n",
    "            nn.ReLU(inplace=True),\n",
    "            nn.MaxPool2d(kernel_size=2, stride=2),  # Output: 56x56x128\n",
    "\n",
    "            nn.Conv2d(128, 256, kernel_size=3, padding=1),  # Output: 56x56x256\n",
    "            nn.BatchNorm2d(256),\n",
    "            nn.ReLU(inplace=True),\n",
    "            nn.MaxPool2d(kernel_size=2, stride=2),  # Output: 28x28x256\n",
    "\n",
    "            nn.Conv2d(256, 512, kernel_size=3, padding=1),  # Output: 28x28x512\n",
    "            nn.BatchNorm2d(512),\n",
    "            nn.ReLU(inplace=True),\n",
    "\n",
    "            nn.Conv2d(512, 1024, kernel_size=3, padding=1),  # Output: 28x28x1024\n",
    "            nn.BatchNorm2d(1024),\n",
    "            nn.ReLU(inplace=True),\n",
    "            nn.MaxPool2d(kernel_size=2, stride=2),  # Output: 14x14x1024\n",
    "        )\n",
    "        \n",
    "        self.attention = AttentionBlock(1024)\n",
    "\n",
    "        # Fully connected layers\n",
    "        self.flatten = nn.Flatten()\n",
    "        self.fc1 = nn.Linear(1024 * 14 * 14, 1024)\n",
    "        self.fc2 = nn.Linear(1024, 512)\n",
    "        self.fc3 = nn.Linear(512, 128)\n",
    "        self.fc4 = nn.Linear(128, num_classes)\n",
    "\n",
    "        # Dropout and activation\n",
    "        self.dropout = nn.Dropout(p=0.5)\n",
    "        self.additional_dropout = nn.Dropout(p=0.3)\n",
    "        self.relu = nn.ReLU()\n",
    "\n",
    "    def forward(self, x):\n",
    "        x = self.conv_layers(x)\n",
    "        x = self.attention(x)\n",
    "        x = self.flatten(x)\n",
    "\n",
    "        # Fully connected layers with dropout\n",
    "        x = self.relu(self.fc1(x))\n",
    "        x = self.dropout(x)\n",
    "        x = self.relu(self.fc2(x))\n",
    "        x = self.dropout(x)\n",
    "        x = self.relu(self.fc3(x))\n",
    "        x = self.additional_dropout(x)\n",
    "\n",
    "        x = self.fc4(x)  # Output layer\n",
    "        return x\n"
   ]
  },
  {
   "cell_type": "code",
   "execution_count": 4,
   "id": "860674dc",
   "metadata": {},
   "outputs": [],
   "source": []
  },
  {
   "cell_type": "markdown",
   "id": "a0c45b84",
   "metadata": {},
   "source": [
    "# 2. Train your model using dog heart dataset (you may need to use  Google Colab (or Kaggle) with GPU to train your code) \n",
    "\n",
    "### (1) use torchvision.datasets.ImageFolder for the training dataset\n",
    "### (2) use custom dataloader for test dataset (return image tensor and file name)"
   ]
  },
  {
   "cell_type": "code",
   "execution_count": 11,
   "id": "1044fdf2",
   "metadata": {},
   "outputs": [],
   "source": [
    "class TestDataSet(Dataset):\n",
    "    def __init__(self, root_dir, transform=None):\n",
    "        self.root_dir = root_dir\n",
    "        self.transform = transform\n",
    "        self.image_paths = [os.path.join(root_dir, file) for file in os.listdir(root_dir) if file.endswith(('png', 'jpg', 'jpeg'))]\n",
    "\n",
    "    def __len__(self):\n",
    "        return len(self.image_paths)\n",
    "\n",
    "    def __getitem__(self, idx):\n",
    "        img_path = self.image_paths[idx]\n",
    "        image = Image.open(img_path).convert('RGB')\n",
    "        \n",
    "        if self.transform:\n",
    "            image = self.transform(image)\n",
    "        filename = os.path.basename(img_path)\n",
    "        return image, filename"
   ]
  },
  {
   "cell_type": "code",
   "execution_count": 12,
   "id": "8a077561",
   "metadata": {},
   "outputs": [],
   "source": [
    "test_transform = test_transform = transforms.Compose([\n",
    "    transforms.Resize((224, 224)),\n",
    "    transforms.ToTensor(),\n",
    "    transforms.RandomHorizontalFlip(),  # Randomly flip images horizontally\n",
    "    transforms.Normalize(mean=[0.485, 0.456, 0.406], std=[0.229, 0.224, 0.225])\n",
    "])\n",
    "\n",
    "\n",
    "transform = transforms.Compose([\n",
    "    transforms.Resize((256, 256)),  # Resize to a slightly larger size first\n",
    "    transforms.RandomCrop((224, 224)),  # Randomly crop to 224x224\n",
    "    transforms.RandomHorizontalFlip(),  # Randomly flip images horizontally\n",
    "    transforms.ColorJitter(brightness=0.2, contrast=0.1, saturation=0.1, hue=0.2),\n",
    "    transforms.ToTensor(),\n",
    "    transforms.Normalize(mean=[0.485, 0.456, 0.406], std=[0.229, 0.224, 0.225])\n",
    "])\n"
   ]
  },
  {
   "cell_type": "code",
   "execution_count": 13,
   "id": "c441a924",
   "metadata": {},
   "outputs": [],
   "source": [
    "batch_size = 64"
   ]
  },
  {
   "cell_type": "code",
   "execution_count": 15,
   "id": "50effdac",
   "metadata": {},
   "outputs": [],
   "source": [
    "\n",
    "# Load train and validation datasets\n",
    "train_dataset = datasets.ImageFolder(root='./dataset/Train', transform=transform)\n",
    "val_dataset = datasets.ImageFolder(root='./dataset/Valid', transform=transform)\n",
    "\n",
    "# Data loaders\n",
    "train_loader = DataLoader(train_dataset, batch_size=batch_size, shuffle=True)\n",
    "val_loader = DataLoader(val_dataset, batch_size=batch_size, shuffle=True)\n"
   ]
  },
  {
   "cell_type": "code",
   "execution_count": 16,
   "id": "a81a1d13",
   "metadata": {},
   "outputs": [],
   "source": [
    "# Load the test dataset\n",
    "test_dataset = TestDataSet(root_dir='./dataset/Test', transform=test_transform)\n",
    "test_loader = DataLoader(test_dataset, batch_size=batch_size, shuffle=False)"
   ]
  },
  {
   "cell_type": "code",
   "execution_count": 17,
   "id": "0fb80aaa",
   "metadata": {},
   "outputs": [
    {
     "name": "stdout",
     "output_type": "stream",
     "text": [
      "Number of samples in the training dataset: 1400\n",
      "Number of samples in the validation dataset: 200\n",
      "Number of samples in the test dataset: 400\n",
      "Number of batches in the training DataLoader: 22\n",
      "Number of batches in the validation DataLoader: 4\n",
      "Number of batches in the test DataLoader: 7\n"
     ]
    }
   ],
   "source": [
    "# Print number of samples in each dataset\n",
    "print(f\"Number of samples in the training dataset: {len(train_dataset)}\")\n",
    "print(f\"Number of samples in the validation dataset: {len(val_dataset)}\")\n",
    "print(f\"Number of samples in the test dataset: {len(test_dataset)}\")\n",
    "\n",
    "# Print number of batches in each DataLoader\n",
    "print(f\"Number of batches in the training DataLoader: {len(train_loader)}\")\n",
    "print(f\"Number of batches in the validation DataLoader: {len(val_loader)}\")\n",
    "print(f\"Number of batches in the test DataLoader: {len(test_loader)}\")\n"
   ]
  },
  {
   "cell_type": "code",
   "execution_count": 10,
   "id": "c76c43e5",
   "metadata": {},
   "outputs": [
    {
     "data": {
      "text/plain": [
       "'20241116_182233'"
      ]
     },
     "execution_count": 10,
     "metadata": {},
     "output_type": "execute_result"
    }
   ],
   "source": [
    "from datetime import datetime\n",
    "\n",
    "# Format the timestamp without spaces or dashes (e.g., YYYYMMDD_HHMMSS)\n",
    "formatted_timestamp = datetime.now().strftime(\"%Y%m%d_%H%M%S\")\n",
    "\n",
    "formatted_timestamp\n"
   ]
  },
  {
   "cell_type": "code",
   "execution_count": 18,
   "id": "e7804b73",
   "metadata": {},
   "outputs": [],
   "source": [
    "torch.cuda.empty_cache()"
   ]
  },
  {
   "cell_type": "code",
   "execution_count": 19,
   "id": "65b144dc",
   "metadata": {},
   "outputs": [],
   "source": [
    "num_classes = len(train_dataset.classes) \n",
    "model = CustomCNN(num_classes=num_classes).to(device)"
   ]
  },
  {
   "cell_type": "code",
   "execution_count": 13,
   "id": "8c62b8a4",
   "metadata": {},
   "outputs": [],
   "source": [
    "num_epochs = 200\n",
    "criterion = nn.CrossEntropyLoss()\n",
    "optimizer = optim.AdamW(model.parameters(), lr=0.0001,weight_decay=0.01)  # Add weight decay\n",
    "scheduler = torch.optim.lr_scheduler.CosineAnnealingLR(optimizer, T_max=10, eta_min=1e-5)"
   ]
  },
  {
   "cell_type": "code",
   "execution_count": null,
   "id": "bd0e6919",
   "metadata": {},
   "outputs": [],
   "source": []
  },
  {
   "cell_type": "code",
   "execution_count": 15,
   "id": "0b17f2d2",
   "metadata": {},
   "outputs": [
    {
     "name": "stderr",
     "output_type": "stream",
     "text": [
      "                                                                     \r"
     ]
    },
    {
     "name": "stdout",
     "output_type": "stream",
     "text": [
      "Epoch [1/200], Training Loss: 1.6249, Training Accuracy: 40.36 %\n",
      "Validation Loss: 1.0619, Validation Accuracy: 45.00 %\n",
      "Precision: 0.2058, Recall: 0.4500, F1 Score: 0.2824\n",
      "Saved new best model by validation loss!\n",
      "Saved new best model by validation accuracy!\n"
     ]
    },
    {
     "name": "stderr",
     "output_type": "stream",
     "text": [
      "                                                                     \r"
     ]
    },
    {
     "name": "stdout",
     "output_type": "stream",
     "text": [
      "Epoch [2/200], Training Loss: 1.2429, Training Accuracy: 38.50 %\n",
      "Validation Loss: 1.0258, Validation Accuracy: 39.00 %\n",
      "Precision: 0.3415, Recall: 0.3900, F1 Score: 0.2788\n",
      "Saved new best model by validation loss!\n"
     ]
    },
    {
     "name": "stderr",
     "output_type": "stream",
     "text": [
      "                                                                     \r"
     ]
    },
    {
     "name": "stdout",
     "output_type": "stream",
     "text": [
      "Epoch [3/200], Training Loss: 1.0827, Training Accuracy: 41.57 %\n",
      "Validation Loss: 1.0305, Validation Accuracy: 44.00 %\n",
      "Precision: 0.3581, Recall: 0.4400, F1 Score: 0.3865\n"
     ]
    },
    {
     "name": "stderr",
     "output_type": "stream",
     "text": [
      "                                                                     \r"
     ]
    },
    {
     "name": "stdout",
     "output_type": "stream",
     "text": [
      "Epoch [4/200], Training Loss: 1.0458, Training Accuracy: 41.29 %\n",
      "Validation Loss: 0.9958, Validation Accuracy: 46.50 %\n",
      "Precision: 0.4460, Recall: 0.4650, F1 Score: 0.3282\n",
      "Saved new best model by validation loss!\n",
      "Saved new best model by validation accuracy!\n"
     ]
    },
    {
     "name": "stderr",
     "output_type": "stream",
     "text": [
      "                                                                     \r"
     ]
    },
    {
     "name": "stdout",
     "output_type": "stream",
     "text": [
      "Epoch [5/200], Training Loss: 1.0111, Training Accuracy: 44.57 %\n",
      "Validation Loss: 0.9624, Validation Accuracy: 42.00 %\n",
      "Precision: 0.3488, Recall: 0.4200, F1 Score: 0.3803\n",
      "Saved new best model by validation loss!\n"
     ]
    },
    {
     "name": "stderr",
     "output_type": "stream",
     "text": [
      "                                                                     \r"
     ]
    },
    {
     "name": "stdout",
     "output_type": "stream",
     "text": [
      "Epoch [6/200], Training Loss: 1.0137, Training Accuracy: 43.14 %\n",
      "Validation Loss: 0.9762, Validation Accuracy: 41.00 %\n",
      "Precision: 0.2832, Recall: 0.4100, F1 Score: 0.2993\n"
     ]
    },
    {
     "name": "stderr",
     "output_type": "stream",
     "text": [
      "                                                                     \r"
     ]
    },
    {
     "name": "stdout",
     "output_type": "stream",
     "text": [
      "Epoch [7/200], Training Loss: 0.9688, Training Accuracy: 43.71 %\n",
      "Validation Loss: 0.9434, Validation Accuracy: 45.00 %\n",
      "Precision: 0.5158, Recall: 0.4500, F1 Score: 0.3724\n",
      "Saved new best model by validation loss!\n"
     ]
    },
    {
     "name": "stderr",
     "output_type": "stream",
     "text": [
      "                                                                     \r"
     ]
    },
    {
     "name": "stdout",
     "output_type": "stream",
     "text": [
      "Epoch [8/200], Training Loss: 0.9468, Training Accuracy: 44.00 %\n",
      "Validation Loss: 0.9230, Validation Accuracy: 51.00 %\n",
      "Precision: 0.5462, Recall: 0.5100, F1 Score: 0.4622\n",
      "Saved new best model by validation loss!\n",
      "Saved new best model by validation accuracy!\n"
     ]
    },
    {
     "name": "stderr",
     "output_type": "stream",
     "text": [
      "                                                                     \r"
     ]
    },
    {
     "name": "stdout",
     "output_type": "stream",
     "text": [
      "Epoch [9/200], Training Loss: 0.9318, Training Accuracy: 47.07 %\n",
      "Validation Loss: 0.9366, Validation Accuracy: 50.50 %\n",
      "Precision: 0.5158, Recall: 0.5050, F1 Score: 0.4672\n"
     ]
    },
    {
     "name": "stderr",
     "output_type": "stream",
     "text": [
      "                                                                      \r"
     ]
    },
    {
     "name": "stdout",
     "output_type": "stream",
     "text": [
      "Epoch [10/200], Training Loss: 0.9011, Training Accuracy: 47.29 %\n",
      "Validation Loss: 0.8770, Validation Accuracy: 57.50 %\n",
      "Precision: 0.5762, Recall: 0.5750, F1 Score: 0.5674\n",
      "Saved new best model by validation loss!\n",
      "Saved new best model by validation accuracy!\n"
     ]
    },
    {
     "name": "stderr",
     "output_type": "stream",
     "text": [
      "                                                                      \r"
     ]
    },
    {
     "name": "stdout",
     "output_type": "stream",
     "text": [
      "Epoch [11/200], Training Loss: 0.8855, Training Accuracy: 50.64 %\n",
      "Validation Loss: 0.8773, Validation Accuracy: 50.50 %\n",
      "Precision: 0.5882, Recall: 0.5050, F1 Score: 0.4058\n"
     ]
    },
    {
     "name": "stderr",
     "output_type": "stream",
     "text": [
      "                                                                      \r"
     ]
    },
    {
     "name": "stdout",
     "output_type": "stream",
     "text": [
      "Epoch [12/200], Training Loss: 0.8431, Training Accuracy: 53.00 %\n",
      "Validation Loss: 0.8613, Validation Accuracy: 51.50 %\n",
      "Precision: 0.5109, Recall: 0.5150, F1 Score: 0.4846\n",
      "Saved new best model by validation loss!\n"
     ]
    },
    {
     "name": "stderr",
     "output_type": "stream",
     "text": [
      "                                                                      \r"
     ]
    },
    {
     "name": "stdout",
     "output_type": "stream",
     "text": [
      "Epoch [13/200], Training Loss: 0.8203, Training Accuracy: 54.71 %\n",
      "Validation Loss: 0.7807, Validation Accuracy: 54.00 %\n",
      "Precision: 0.5375, Recall: 0.5400, F1 Score: 0.5355\n",
      "Saved new best model by validation loss!\n"
     ]
    },
    {
     "name": "stderr",
     "output_type": "stream",
     "text": [
      "                                                                      \r"
     ]
    },
    {
     "name": "stdout",
     "output_type": "stream",
     "text": [
      "Epoch [14/200], Training Loss: 0.8224, Training Accuracy: 55.50 %\n",
      "Validation Loss: 0.8844, Validation Accuracy: 60.00 %\n",
      "Precision: 0.6354, Recall: 0.6000, F1 Score: 0.5723\n",
      "Saved new best model by validation accuracy!\n"
     ]
    },
    {
     "name": "stderr",
     "output_type": "stream",
     "text": [
      "                                                                      \r"
     ]
    },
    {
     "name": "stdout",
     "output_type": "stream",
     "text": [
      "Epoch [15/200], Training Loss: 0.8181, Training Accuracy: 55.86 %\n",
      "Validation Loss: 0.8075, Validation Accuracy: 60.00 %\n",
      "Precision: 0.6149, Recall: 0.6000, F1 Score: 0.5806\n"
     ]
    },
    {
     "name": "stderr",
     "output_type": "stream",
     "text": [
      "                                                                      \r"
     ]
    },
    {
     "name": "stdout",
     "output_type": "stream",
     "text": [
      "Epoch [16/200], Training Loss: 0.7803, Training Accuracy: 57.71 %\n",
      "Validation Loss: 0.7123, Validation Accuracy: 66.50 %\n",
      "Precision: 0.6815, Recall: 0.6650, F1 Score: 0.6489\n",
      "Saved new best model by validation loss!\n",
      "Saved new best model by validation accuracy!\n"
     ]
    },
    {
     "name": "stderr",
     "output_type": "stream",
     "text": [
      "                                                                      \r"
     ]
    },
    {
     "name": "stdout",
     "output_type": "stream",
     "text": [
      "Epoch [17/200], Training Loss: 0.7673, Training Accuracy: 58.50 %\n",
      "Validation Loss: 0.7165, Validation Accuracy: 64.50 %\n",
      "Precision: 0.6571, Recall: 0.6450, F1 Score: 0.6347\n"
     ]
    },
    {
     "name": "stderr",
     "output_type": "stream",
     "text": [
      "                                                                      \r"
     ]
    },
    {
     "name": "stdout",
     "output_type": "stream",
     "text": [
      "Epoch [18/200], Training Loss: 0.7518, Training Accuracy: 60.14 %\n",
      "Validation Loss: 0.7469, Validation Accuracy: 65.50 %\n",
      "Precision: 0.6700, Recall: 0.6550, F1 Score: 0.6422\n"
     ]
    },
    {
     "name": "stderr",
     "output_type": "stream",
     "text": [
      "                                                                      \r"
     ]
    },
    {
     "name": "stdout",
     "output_type": "stream",
     "text": [
      "Epoch [19/200], Training Loss: 0.7482, Training Accuracy: 60.93 %\n",
      "Validation Loss: 0.6752, Validation Accuracy: 64.00 %\n",
      "Precision: 0.6627, Recall: 0.6400, F1 Score: 0.6130\n",
      "Saved new best model by validation loss!\n"
     ]
    },
    {
     "name": "stderr",
     "output_type": "stream",
     "text": [
      "                                                                      \r"
     ]
    },
    {
     "name": "stdout",
     "output_type": "stream",
     "text": [
      "Epoch [20/200], Training Loss: 0.7467, Training Accuracy: 59.57 %\n",
      "Validation Loss: 0.8167, Validation Accuracy: 57.50 %\n",
      "Precision: 0.5884, Recall: 0.5750, F1 Score: 0.5490\n"
     ]
    },
    {
     "name": "stderr",
     "output_type": "stream",
     "text": [
      "                                                                      \r"
     ]
    },
    {
     "name": "stdout",
     "output_type": "stream",
     "text": [
      "Epoch [21/200], Training Loss: 0.7416, Training Accuracy: 59.57 %\n",
      "Validation Loss: 0.7764, Validation Accuracy: 61.50 %\n",
      "Precision: 0.6790, Recall: 0.6150, F1 Score: 0.5637\n"
     ]
    },
    {
     "name": "stderr",
     "output_type": "stream",
     "text": [
      "                                                                      \r"
     ]
    },
    {
     "name": "stdout",
     "output_type": "stream",
     "text": [
      "Epoch [22/200], Training Loss: 0.7432, Training Accuracy: 59.64 %\n",
      "Validation Loss: 0.6798, Validation Accuracy: 63.00 %\n",
      "Precision: 0.6480, Recall: 0.6300, F1 Score: 0.6065\n"
     ]
    },
    {
     "name": "stderr",
     "output_type": "stream",
     "text": [
      "                                                                      \r"
     ]
    },
    {
     "name": "stdout",
     "output_type": "stream",
     "text": [
      "Epoch [23/200], Training Loss: 0.7160, Training Accuracy: 63.36 %\n",
      "Validation Loss: 0.7252, Validation Accuracy: 61.00 %\n",
      "Precision: 0.6140, Recall: 0.6100, F1 Score: 0.6041\n"
     ]
    },
    {
     "name": "stderr",
     "output_type": "stream",
     "text": [
      "                                                                      \r"
     ]
    },
    {
     "name": "stdout",
     "output_type": "stream",
     "text": [
      "Epoch [24/200], Training Loss: 0.7263, Training Accuracy: 62.64 %\n",
      "Validation Loss: 0.7806, Validation Accuracy: 63.50 %\n",
      "Precision: 0.6664, Recall: 0.6350, F1 Score: 0.6033\n"
     ]
    },
    {
     "name": "stderr",
     "output_type": "stream",
     "text": [
      "                                                                      \r"
     ]
    },
    {
     "name": "stdout",
     "output_type": "stream",
     "text": [
      "Epoch [25/200], Training Loss: 0.7205, Training Accuracy: 61.64 %\n",
      "Validation Loss: 0.6476, Validation Accuracy: 63.00 %\n",
      "Precision: 0.6678, Recall: 0.6300, F1 Score: 0.5951\n",
      "Saved new best model by validation loss!\n"
     ]
    },
    {
     "name": "stderr",
     "output_type": "stream",
     "text": [
      "                                                                      \r"
     ]
    },
    {
     "name": "stdout",
     "output_type": "stream",
     "text": [
      "Epoch [26/200], Training Loss: 0.7168, Training Accuracy: 63.21 %\n",
      "Validation Loss: 0.7196, Validation Accuracy: 59.00 %\n",
      "Precision: 0.5905, Recall: 0.5900, F1 Score: 0.5645\n"
     ]
    },
    {
     "name": "stderr",
     "output_type": "stream",
     "text": [
      "                                                                      \r"
     ]
    },
    {
     "name": "stdout",
     "output_type": "stream",
     "text": [
      "Epoch [27/200], Training Loss: 0.7045, Training Accuracy: 65.93 %\n",
      "Validation Loss: 0.7792, Validation Accuracy: 67.50 %\n",
      "Precision: 0.7182, Recall: 0.6750, F1 Score: 0.6576\n",
      "Saved new best model by validation accuracy!\n"
     ]
    },
    {
     "name": "stderr",
     "output_type": "stream",
     "text": [
      "                                                                      \r"
     ]
    },
    {
     "name": "stdout",
     "output_type": "stream",
     "text": [
      "Epoch [28/200], Training Loss: 0.6939, Training Accuracy: 62.86 %\n",
      "Validation Loss: 0.6556, Validation Accuracy: 68.00 %\n",
      "Precision: 0.6797, Recall: 0.6800, F1 Score: 0.6740\n",
      "Saved new best model by validation accuracy!\n"
     ]
    },
    {
     "name": "stderr",
     "output_type": "stream",
     "text": [
      "                                                                      \r"
     ]
    },
    {
     "name": "stdout",
     "output_type": "stream",
     "text": [
      "Epoch [29/200], Training Loss: 0.6893, Training Accuracy: 64.79 %\n",
      "Validation Loss: 0.6594, Validation Accuracy: 68.00 %\n",
      "Precision: 0.6897, Recall: 0.6800, F1 Score: 0.6747\n"
     ]
    },
    {
     "name": "stderr",
     "output_type": "stream",
     "text": [
      "                                                                      \r"
     ]
    },
    {
     "name": "stdout",
     "output_type": "stream",
     "text": [
      "Epoch [30/200], Training Loss: 0.6814, Training Accuracy: 63.64 %\n",
      "Validation Loss: 0.6719, Validation Accuracy: 63.00 %\n",
      "Precision: 0.6477, Recall: 0.6300, F1 Score: 0.6035\n"
     ]
    },
    {
     "name": "stderr",
     "output_type": "stream",
     "text": [
      "                                                                      \r"
     ]
    },
    {
     "name": "stdout",
     "output_type": "stream",
     "text": [
      "Epoch [31/200], Training Loss: 0.6660, Training Accuracy: 67.07 %\n",
      "Validation Loss: 0.6594, Validation Accuracy: 58.50 %\n",
      "Precision: 0.5883, Recall: 0.5850, F1 Score: 0.5620\n"
     ]
    },
    {
     "name": "stderr",
     "output_type": "stream",
     "text": [
      "                                                                      \r"
     ]
    },
    {
     "name": "stdout",
     "output_type": "stream",
     "text": [
      "Epoch [32/200], Training Loss: 0.6931, Training Accuracy: 65.36 %\n",
      "Validation Loss: 0.6689, Validation Accuracy: 61.50 %\n",
      "Precision: 0.6216, Recall: 0.6150, F1 Score: 0.5894\n"
     ]
    },
    {
     "name": "stderr",
     "output_type": "stream",
     "text": [
      "                                                                      \r"
     ]
    },
    {
     "name": "stdout",
     "output_type": "stream",
     "text": [
      "Epoch [33/200], Training Loss: 0.6935, Training Accuracy: 65.00 %\n",
      "Validation Loss: 0.6552, Validation Accuracy: 66.50 %\n",
      "Precision: 0.7103, Recall: 0.6650, F1 Score: 0.6325\n"
     ]
    },
    {
     "name": "stderr",
     "output_type": "stream",
     "text": [
      "                                                                      \r"
     ]
    },
    {
     "name": "stdout",
     "output_type": "stream",
     "text": [
      "Epoch [34/200], Training Loss: 0.6577, Training Accuracy: 67.07 %\n",
      "Validation Loss: 0.6337, Validation Accuracy: 68.50 %\n",
      "Precision: 0.6985, Recall: 0.6850, F1 Score: 0.6711\n",
      "Saved new best model by validation loss!\n",
      "Saved new best model by validation accuracy!\n"
     ]
    },
    {
     "name": "stderr",
     "output_type": "stream",
     "text": [
      "                                                                      \r"
     ]
    },
    {
     "name": "stdout",
     "output_type": "stream",
     "text": [
      "Epoch [35/200], Training Loss: 0.6632, Training Accuracy: 66.79 %\n",
      "Validation Loss: 0.6754, Validation Accuracy: 67.00 %\n",
      "Precision: 0.6670, Recall: 0.6700, F1 Score: 0.6664\n"
     ]
    },
    {
     "name": "stderr",
     "output_type": "stream",
     "text": [
      "                                                                      \r"
     ]
    },
    {
     "name": "stdout",
     "output_type": "stream",
     "text": [
      "Epoch [36/200], Training Loss: 0.6536, Training Accuracy: 66.36 %\n",
      "Validation Loss: 0.6811, Validation Accuracy: 66.00 %\n",
      "Precision: 0.6610, Recall: 0.6600, F1 Score: 0.6502\n"
     ]
    },
    {
     "name": "stderr",
     "output_type": "stream",
     "text": [
      "                                                                      \r"
     ]
    },
    {
     "name": "stdout",
     "output_type": "stream",
     "text": [
      "Epoch [37/200], Training Loss: 0.6547, Training Accuracy: 67.36 %\n",
      "Validation Loss: 0.7762, Validation Accuracy: 67.50 %\n",
      "Precision: 0.6809, Recall: 0.6750, F1 Score: 0.6684\n"
     ]
    },
    {
     "name": "stderr",
     "output_type": "stream",
     "text": [
      "                                                                      \r"
     ]
    },
    {
     "name": "stdout",
     "output_type": "stream",
     "text": [
      "Epoch [38/200], Training Loss: 0.6415, Training Accuracy: 69.21 %\n",
      "Validation Loss: 0.6381, Validation Accuracy: 69.00 %\n",
      "Precision: 0.6866, Recall: 0.6900, F1 Score: 0.6863\n",
      "Saved new best model by validation accuracy!\n"
     ]
    },
    {
     "name": "stderr",
     "output_type": "stream",
     "text": [
      "                                                                      \r"
     ]
    },
    {
     "name": "stdout",
     "output_type": "stream",
     "text": [
      "Epoch [39/200], Training Loss: 0.6260, Training Accuracy: 69.36 %\n",
      "Validation Loss: 0.6693, Validation Accuracy: 65.00 %\n",
      "Precision: 0.6620, Recall: 0.6500, F1 Score: 0.6349\n"
     ]
    },
    {
     "name": "stderr",
     "output_type": "stream",
     "text": [
      "                                                                      \r"
     ]
    },
    {
     "name": "stdout",
     "output_type": "stream",
     "text": [
      "Epoch [40/200], Training Loss: 0.6332, Training Accuracy: 67.29 %\n",
      "Validation Loss: 0.6555, Validation Accuracy: 64.00 %\n",
      "Precision: 0.6384, Recall: 0.6400, F1 Score: 0.6386\n"
     ]
    },
    {
     "name": "stderr",
     "output_type": "stream",
     "text": [
      "                                                                      \r"
     ]
    },
    {
     "name": "stdout",
     "output_type": "stream",
     "text": [
      "Epoch [41/200], Training Loss: 0.6346, Training Accuracy: 69.36 %\n",
      "Validation Loss: 0.7031, Validation Accuracy: 61.50 %\n",
      "Precision: 0.6177, Recall: 0.6150, F1 Score: 0.6096\n"
     ]
    },
    {
     "name": "stderr",
     "output_type": "stream",
     "text": [
      "                                                                      \r"
     ]
    },
    {
     "name": "stdout",
     "output_type": "stream",
     "text": [
      "Epoch [42/200], Training Loss: 0.6242, Training Accuracy: 68.86 %\n",
      "Validation Loss: 0.6724, Validation Accuracy: 64.50 %\n",
      "Precision: 0.6664, Recall: 0.6450, F1 Score: 0.6240\n"
     ]
    },
    {
     "name": "stderr",
     "output_type": "stream",
     "text": [
      "                                                                      \r"
     ]
    },
    {
     "name": "stdout",
     "output_type": "stream",
     "text": [
      "Epoch [43/200], Training Loss: 0.6153, Training Accuracy: 68.50 %\n",
      "Validation Loss: 0.6164, Validation Accuracy: 66.50 %\n",
      "Precision: 0.6651, Recall: 0.6650, F1 Score: 0.6606\n",
      "Saved new best model by validation loss!\n"
     ]
    },
    {
     "name": "stderr",
     "output_type": "stream",
     "text": [
      "                                                                      \r"
     ]
    },
    {
     "name": "stdout",
     "output_type": "stream",
     "text": [
      "Epoch [44/200], Training Loss: 0.6108, Training Accuracy: 71.00 %\n",
      "Validation Loss: 0.6483, Validation Accuracy: 65.50 %\n",
      "Precision: 0.6590, Recall: 0.6550, F1 Score: 0.6477\n"
     ]
    },
    {
     "name": "stderr",
     "output_type": "stream",
     "text": [
      "                                                                      \r"
     ]
    },
    {
     "name": "stdout",
     "output_type": "stream",
     "text": [
      "Epoch [45/200], Training Loss: 0.6126, Training Accuracy: 69.64 %\n",
      "Validation Loss: 0.7844, Validation Accuracy: 64.00 %\n",
      "Precision: 0.6449, Recall: 0.6400, F1 Score: 0.6280\n"
     ]
    },
    {
     "name": "stderr",
     "output_type": "stream",
     "text": [
      "                                                                      \r"
     ]
    },
    {
     "name": "stdout",
     "output_type": "stream",
     "text": [
      "Epoch [46/200], Training Loss: 0.5893, Training Accuracy: 71.36 %\n",
      "Validation Loss: 0.6748, Validation Accuracy: 66.00 %\n",
      "Precision: 0.6718, Recall: 0.6600, F1 Score: 0.6491\n"
     ]
    },
    {
     "name": "stderr",
     "output_type": "stream",
     "text": [
      "                                                                      \r"
     ]
    },
    {
     "name": "stdout",
     "output_type": "stream",
     "text": [
      "Epoch [47/200], Training Loss: 0.6017, Training Accuracy: 70.07 %\n",
      "Validation Loss: 0.6239, Validation Accuracy: 66.00 %\n",
      "Precision: 0.6658, Recall: 0.6600, F1 Score: 0.6468\n"
     ]
    },
    {
     "name": "stderr",
     "output_type": "stream",
     "text": [
      "                                                                      \r"
     ]
    },
    {
     "name": "stdout",
     "output_type": "stream",
     "text": [
      "Epoch [48/200], Training Loss: 0.6023, Training Accuracy: 70.71 %\n",
      "Validation Loss: 0.8749, Validation Accuracy: 65.00 %\n",
      "Precision: 0.6720, Recall: 0.6500, F1 Score: 0.6254\n"
     ]
    },
    {
     "name": "stderr",
     "output_type": "stream",
     "text": [
      "                                                                      \r"
     ]
    },
    {
     "name": "stdout",
     "output_type": "stream",
     "text": [
      "Epoch [49/200], Training Loss: 0.6134, Training Accuracy: 69.14 %\n",
      "Validation Loss: 0.6461, Validation Accuracy: 64.00 %\n",
      "Precision: 0.6536, Recall: 0.6400, F1 Score: 0.6210\n"
     ]
    },
    {
     "name": "stderr",
     "output_type": "stream",
     "text": [
      "                                                                      \r"
     ]
    },
    {
     "name": "stdout",
     "output_type": "stream",
     "text": [
      "Epoch [50/200], Training Loss: 0.6057, Training Accuracy: 71.14 %\n",
      "Validation Loss: 0.7246, Validation Accuracy: 61.00 %\n",
      "Precision: 0.6100, Recall: 0.6100, F1 Score: 0.5955\n"
     ]
    },
    {
     "name": "stderr",
     "output_type": "stream",
     "text": [
      "                                                                      \r"
     ]
    },
    {
     "name": "stdout",
     "output_type": "stream",
     "text": [
      "Epoch [51/200], Training Loss: 0.5902, Training Accuracy: 71.86 %\n",
      "Validation Loss: 0.6106, Validation Accuracy: 66.50 %\n",
      "Precision: 0.6876, Recall: 0.6650, F1 Score: 0.6439\n",
      "Saved new best model by validation loss!\n"
     ]
    },
    {
     "name": "stderr",
     "output_type": "stream",
     "text": [
      "                                                                      \r"
     ]
    },
    {
     "name": "stdout",
     "output_type": "stream",
     "text": [
      "Epoch [52/200], Training Loss: 0.5957, Training Accuracy: 69.79 %\n",
      "Validation Loss: 0.6421, Validation Accuracy: 69.50 %\n",
      "Precision: 0.6972, Recall: 0.6950, F1 Score: 0.6908\n",
      "Saved new best model by validation accuracy!\n"
     ]
    },
    {
     "name": "stderr",
     "output_type": "stream",
     "text": [
      "                                                                      \r"
     ]
    },
    {
     "name": "stdout",
     "output_type": "stream",
     "text": [
      "Epoch [53/200], Training Loss: 0.5851, Training Accuracy: 71.57 %\n",
      "Validation Loss: 0.6407, Validation Accuracy: 69.00 %\n",
      "Precision: 0.6879, Recall: 0.6900, F1 Score: 0.6870\n"
     ]
    },
    {
     "name": "stderr",
     "output_type": "stream",
     "text": [
      "                                                                      \r"
     ]
    },
    {
     "name": "stdout",
     "output_type": "stream",
     "text": [
      "Epoch [54/200], Training Loss: 0.5825, Training Accuracy: 71.36 %\n",
      "Validation Loss: 0.6162, Validation Accuracy: 69.00 %\n",
      "Precision: 0.6891, Recall: 0.6900, F1 Score: 0.6844\n"
     ]
    },
    {
     "name": "stderr",
     "output_type": "stream",
     "text": [
      "                                                                      \r"
     ]
    },
    {
     "name": "stdout",
     "output_type": "stream",
     "text": [
      "Epoch [55/200], Training Loss: 0.5695, Training Accuracy: 72.21 %\n",
      "Validation Loss: 0.8243, Validation Accuracy: 69.00 %\n",
      "Precision: 0.6918, Recall: 0.6900, F1 Score: 0.6836\n"
     ]
    },
    {
     "name": "stderr",
     "output_type": "stream",
     "text": [
      "                                                                      \r"
     ]
    },
    {
     "name": "stdout",
     "output_type": "stream",
     "text": [
      "Epoch [56/200], Training Loss: 0.5560, Training Accuracy: 75.43 %\n",
      "Validation Loss: 0.6002, Validation Accuracy: 63.50 %\n",
      "Precision: 0.6403, Recall: 0.6350, F1 Score: 0.6269\n",
      "Saved new best model by validation loss!\n"
     ]
    },
    {
     "name": "stderr",
     "output_type": "stream",
     "text": [
      "                                                                      \r"
     ]
    },
    {
     "name": "stdout",
     "output_type": "stream",
     "text": [
      "Epoch [57/200], Training Loss: 0.5649, Training Accuracy: 72.86 %\n",
      "Validation Loss: 0.6271, Validation Accuracy: 67.50 %\n",
      "Precision: 0.6774, Recall: 0.6750, F1 Score: 0.6667\n"
     ]
    },
    {
     "name": "stderr",
     "output_type": "stream",
     "text": [
      "                                                                      \r"
     ]
    },
    {
     "name": "stdout",
     "output_type": "stream",
     "text": [
      "Epoch [58/200], Training Loss: 0.5730, Training Accuracy: 72.07 %\n",
      "Validation Loss: 0.6401, Validation Accuracy: 69.00 %\n",
      "Precision: 0.6894, Recall: 0.6900, F1 Score: 0.6869\n"
     ]
    },
    {
     "name": "stderr",
     "output_type": "stream",
     "text": [
      "                                                                      \r"
     ]
    },
    {
     "name": "stdout",
     "output_type": "stream",
     "text": [
      "Epoch [59/200], Training Loss: 0.5655, Training Accuracy: 72.64 %\n",
      "Validation Loss: 0.5771, Validation Accuracy: 65.50 %\n",
      "Precision: 0.6616, Recall: 0.6550, F1 Score: 0.6434\n",
      "Saved new best model by validation loss!\n"
     ]
    },
    {
     "name": "stderr",
     "output_type": "stream",
     "text": [
      "                                                                      \r"
     ]
    },
    {
     "name": "stdout",
     "output_type": "stream",
     "text": [
      "Epoch [60/200], Training Loss: 0.5647, Training Accuracy: 73.71 %\n",
      "Validation Loss: 0.5507, Validation Accuracy: 72.00 %\n",
      "Precision: 0.7325, Recall: 0.7200, F1 Score: 0.7108\n",
      "Saved new best model by validation loss!\n",
      "Saved new best model by validation accuracy!\n"
     ]
    },
    {
     "name": "stderr",
     "output_type": "stream",
     "text": [
      "                                                                      \r"
     ]
    },
    {
     "name": "stdout",
     "output_type": "stream",
     "text": [
      "Epoch [61/200], Training Loss: 0.5446, Training Accuracy: 74.50 %\n",
      "Validation Loss: 0.6716, Validation Accuracy: 63.50 %\n",
      "Precision: 0.6326, Recall: 0.6350, F1 Score: 0.6318\n"
     ]
    },
    {
     "name": "stderr",
     "output_type": "stream",
     "text": [
      "                                                                      \r"
     ]
    },
    {
     "name": "stdout",
     "output_type": "stream",
     "text": [
      "Epoch [62/200], Training Loss: 0.5755, Training Accuracy: 73.64 %\n",
      "Validation Loss: 0.6975, Validation Accuracy: 67.50 %\n",
      "Precision: 0.6797, Recall: 0.6750, F1 Score: 0.6640\n"
     ]
    },
    {
     "name": "stderr",
     "output_type": "stream",
     "text": [
      "                                                                      \r"
     ]
    },
    {
     "name": "stdout",
     "output_type": "stream",
     "text": [
      "Epoch [63/200], Training Loss: 0.5775, Training Accuracy: 72.57 %\n",
      "Validation Loss: 0.5554, Validation Accuracy: 64.00 %\n",
      "Precision: 0.6457, Recall: 0.6400, F1 Score: 0.6274\n"
     ]
    },
    {
     "name": "stderr",
     "output_type": "stream",
     "text": [
      "                                                                      \r"
     ]
    },
    {
     "name": "stdout",
     "output_type": "stream",
     "text": [
      "Epoch [64/200], Training Loss: 0.5412, Training Accuracy: 73.57 %\n",
      "Validation Loss: 0.6444, Validation Accuracy: 72.00 %\n",
      "Precision: 0.7176, Recall: 0.7200, F1 Score: 0.7174\n"
     ]
    },
    {
     "name": "stderr",
     "output_type": "stream",
     "text": [
      "                                                                      \r"
     ]
    },
    {
     "name": "stdout",
     "output_type": "stream",
     "text": [
      "Epoch [65/200], Training Loss: 0.5597, Training Accuracy: 74.57 %\n",
      "Validation Loss: 0.6646, Validation Accuracy: 65.50 %\n",
      "Precision: 0.6612, Recall: 0.6550, F1 Score: 0.6505\n"
     ]
    },
    {
     "name": "stderr",
     "output_type": "stream",
     "text": [
      "                                                                      \r"
     ]
    },
    {
     "name": "stdout",
     "output_type": "stream",
     "text": [
      "Epoch [66/200], Training Loss: 0.5638, Training Accuracy: 73.64 %\n",
      "Validation Loss: 0.6871, Validation Accuracy: 67.50 %\n",
      "Precision: 0.6715, Recall: 0.6750, F1 Score: 0.6704\n"
     ]
    },
    {
     "name": "stderr",
     "output_type": "stream",
     "text": [
      "                                                                      \r"
     ]
    },
    {
     "name": "stdout",
     "output_type": "stream",
     "text": [
      "Epoch [67/200], Training Loss: 0.5424, Training Accuracy: 74.71 %\n",
      "Validation Loss: 0.6853, Validation Accuracy: 64.00 %\n",
      "Precision: 0.6443, Recall: 0.6400, F1 Score: 0.6307\n"
     ]
    },
    {
     "name": "stderr",
     "output_type": "stream",
     "text": [
      "                                                                      \r"
     ]
    },
    {
     "name": "stdout",
     "output_type": "stream",
     "text": [
      "Epoch [68/200], Training Loss: 0.5384, Training Accuracy: 75.71 %\n",
      "Validation Loss: 0.7154, Validation Accuracy: 62.50 %\n",
      "Precision: 0.6680, Recall: 0.6250, F1 Score: 0.5843\n"
     ]
    },
    {
     "name": "stderr",
     "output_type": "stream",
     "text": [
      "                                                                      \r"
     ]
    },
    {
     "name": "stdout",
     "output_type": "stream",
     "text": [
      "Epoch [69/200], Training Loss: 0.5494, Training Accuracy: 73.50 %\n",
      "Validation Loss: 0.6036, Validation Accuracy: 71.00 %\n",
      "Precision: 0.7226, Recall: 0.7100, F1 Score: 0.7010\n"
     ]
    },
    {
     "name": "stderr",
     "output_type": "stream",
     "text": [
      "                                                                      \r"
     ]
    },
    {
     "name": "stdout",
     "output_type": "stream",
     "text": [
      "Epoch [70/200], Training Loss: 0.5452, Training Accuracy: 75.00 %\n",
      "Validation Loss: 0.5726, Validation Accuracy: 68.00 %\n",
      "Precision: 0.6845, Recall: 0.6800, F1 Score: 0.6769\n"
     ]
    },
    {
     "name": "stderr",
     "output_type": "stream",
     "text": [
      "                                                                      \r"
     ]
    },
    {
     "name": "stdout",
     "output_type": "stream",
     "text": [
      "Epoch [71/200], Training Loss: 0.5118, Training Accuracy: 74.43 %\n",
      "Validation Loss: 0.5529, Validation Accuracy: 74.00 %\n",
      "Precision: 0.7380, Recall: 0.7400, F1 Score: 0.7369\n",
      "Saved new best model by validation accuracy!\n"
     ]
    },
    {
     "name": "stderr",
     "output_type": "stream",
     "text": [
      "                                                                      \r"
     ]
    },
    {
     "name": "stdout",
     "output_type": "stream",
     "text": [
      "Epoch [72/200], Training Loss: 0.5240, Training Accuracy: 75.29 %\n",
      "Validation Loss: 0.7740, Validation Accuracy: 66.00 %\n",
      "Precision: 0.6603, Recall: 0.6600, F1 Score: 0.6516\n"
     ]
    },
    {
     "name": "stderr",
     "output_type": "stream",
     "text": [
      "                                                                      \r"
     ]
    },
    {
     "name": "stdout",
     "output_type": "stream",
     "text": [
      "Epoch [73/200], Training Loss: 0.5386, Training Accuracy: 75.50 %\n",
      "Validation Loss: 0.8280, Validation Accuracy: 63.00 %\n",
      "Precision: 0.6427, Recall: 0.6300, F1 Score: 0.6159\n"
     ]
    },
    {
     "name": "stderr",
     "output_type": "stream",
     "text": [
      "                                                                      \r"
     ]
    },
    {
     "name": "stdout",
     "output_type": "stream",
     "text": [
      "Epoch [74/200], Training Loss: 0.5083, Training Accuracy: 77.00 %\n",
      "Validation Loss: 0.6340, Validation Accuracy: 65.00 %\n",
      "Precision: 0.6579, Recall: 0.6500, F1 Score: 0.6379\n"
     ]
    },
    {
     "name": "stderr",
     "output_type": "stream",
     "text": [
      "                                                                      \r"
     ]
    },
    {
     "name": "stdout",
     "output_type": "stream",
     "text": [
      "Epoch [75/200], Training Loss: 0.5332, Training Accuracy: 75.14 %\n",
      "Validation Loss: 0.6056, Validation Accuracy: 69.00 %\n",
      "Precision: 0.6942, Recall: 0.6900, F1 Score: 0.6816\n"
     ]
    },
    {
     "name": "stderr",
     "output_type": "stream",
     "text": [
      "                                                                      \r"
     ]
    },
    {
     "name": "stdout",
     "output_type": "stream",
     "text": [
      "Epoch [76/200], Training Loss: 0.5268, Training Accuracy: 75.36 %\n",
      "Validation Loss: 0.6604, Validation Accuracy: 69.00 %\n",
      "Precision: 0.6996, Recall: 0.6900, F1 Score: 0.6801\n"
     ]
    },
    {
     "name": "stderr",
     "output_type": "stream",
     "text": [
      "                                                                      \r"
     ]
    },
    {
     "name": "stdout",
     "output_type": "stream",
     "text": [
      "Epoch [77/200], Training Loss: 0.4798, Training Accuracy: 78.14 %\n",
      "Validation Loss: 0.6669, Validation Accuracy: 71.00 %\n",
      "Precision: 0.7140, Recall: 0.7100, F1 Score: 0.7023\n"
     ]
    },
    {
     "name": "stderr",
     "output_type": "stream",
     "text": [
      "                                                                      \r"
     ]
    },
    {
     "name": "stdout",
     "output_type": "stream",
     "text": [
      "Epoch [78/200], Training Loss: 0.5027, Training Accuracy: 76.36 %\n",
      "Validation Loss: 0.5976, Validation Accuracy: 67.00 %\n",
      "Precision: 0.6718, Recall: 0.6700, F1 Score: 0.6664\n"
     ]
    },
    {
     "name": "stderr",
     "output_type": "stream",
     "text": [
      "                                                                      \r"
     ]
    },
    {
     "name": "stdout",
     "output_type": "stream",
     "text": [
      "Epoch [79/200], Training Loss: 0.4985, Training Accuracy: 77.71 %\n",
      "Validation Loss: 0.5894, Validation Accuracy: 69.50 %\n",
      "Precision: 0.6944, Recall: 0.6950, F1 Score: 0.6942\n"
     ]
    },
    {
     "name": "stderr",
     "output_type": "stream",
     "text": [
      "                                                                      \r"
     ]
    },
    {
     "name": "stdout",
     "output_type": "stream",
     "text": [
      "Epoch [80/200], Training Loss: 0.5226, Training Accuracy: 75.14 %\n",
      "Validation Loss: 0.5499, Validation Accuracy: 70.00 %\n",
      "Precision: 0.7165, Recall: 0.7000, F1 Score: 0.6880\n",
      "Saved new best model by validation loss!\n"
     ]
    },
    {
     "name": "stderr",
     "output_type": "stream",
     "text": [
      "                                                                      \r"
     ]
    },
    {
     "name": "stdout",
     "output_type": "stream",
     "text": [
      "Epoch [81/200], Training Loss: 0.4816, Training Accuracy: 77.57 %\n",
      "Validation Loss: 0.6325, Validation Accuracy: 61.00 %\n",
      "Precision: 0.6125, Recall: 0.6100, F1 Score: 0.6028\n"
     ]
    },
    {
     "name": "stderr",
     "output_type": "stream",
     "text": [
      "                                                                      \r"
     ]
    },
    {
     "name": "stdout",
     "output_type": "stream",
     "text": [
      "Epoch [82/200], Training Loss: 0.4799, Training Accuracy: 77.93 %\n",
      "Validation Loss: 0.5618, Validation Accuracy: 69.50 %\n",
      "Precision: 0.7079, Recall: 0.6950, F1 Score: 0.6830\n"
     ]
    },
    {
     "name": "stderr",
     "output_type": "stream",
     "text": [
      "                                                                      \r"
     ]
    },
    {
     "name": "stdout",
     "output_type": "stream",
     "text": [
      "Epoch [83/200], Training Loss: 0.4750, Training Accuracy: 78.79 %\n",
      "Validation Loss: 0.6213, Validation Accuracy: 69.00 %\n",
      "Precision: 0.6997, Recall: 0.6900, F1 Score: 0.6835\n"
     ]
    },
    {
     "name": "stderr",
     "output_type": "stream",
     "text": [
      "                                                                      \r"
     ]
    },
    {
     "name": "stdout",
     "output_type": "stream",
     "text": [
      "Epoch [84/200], Training Loss: 0.4639, Training Accuracy: 79.07 %\n",
      "Validation Loss: 0.5441, Validation Accuracy: 67.50 %\n",
      "Precision: 0.6747, Recall: 0.6750, F1 Score: 0.6698\n",
      "Saved new best model by validation loss!\n"
     ]
    },
    {
     "name": "stderr",
     "output_type": "stream",
     "text": [
      "                                                                      \r"
     ]
    },
    {
     "name": "stdout",
     "output_type": "stream",
     "text": [
      "Epoch [85/200], Training Loss: 0.4809, Training Accuracy: 77.86 %\n",
      "Validation Loss: 0.7233, Validation Accuracy: 71.50 %\n",
      "Precision: 0.7200, Recall: 0.7150, F1 Score: 0.7115\n"
     ]
    },
    {
     "name": "stderr",
     "output_type": "stream",
     "text": [
      "                                                                      \r"
     ]
    },
    {
     "name": "stdout",
     "output_type": "stream",
     "text": [
      "Epoch [86/200], Training Loss: 0.4385, Training Accuracy: 79.79 %\n",
      "Validation Loss: 0.7864, Validation Accuracy: 68.50 %\n",
      "Precision: 0.6991, Recall: 0.6850, F1 Score: 0.6714\n"
     ]
    },
    {
     "name": "stderr",
     "output_type": "stream",
     "text": [
      "                                                                      \r"
     ]
    },
    {
     "name": "stdout",
     "output_type": "stream",
     "text": [
      "Epoch [87/200], Training Loss: 0.4585, Training Accuracy: 78.64 %\n",
      "Validation Loss: 0.8329, Validation Accuracy: 67.50 %\n",
      "Precision: 0.6772, Recall: 0.6750, F1 Score: 0.6664\n"
     ]
    },
    {
     "name": "stderr",
     "output_type": "stream",
     "text": [
      "                                                                      \r"
     ]
    },
    {
     "name": "stdout",
     "output_type": "stream",
     "text": [
      "Epoch [88/200], Training Loss: 0.4668, Training Accuracy: 77.93 %\n",
      "Validation Loss: 0.5354, Validation Accuracy: 71.00 %\n",
      "Precision: 0.7309, Recall: 0.7100, F1 Score: 0.6971\n",
      "Saved new best model by validation loss!\n"
     ]
    },
    {
     "name": "stderr",
     "output_type": "stream",
     "text": [
      "                                                                      \r"
     ]
    },
    {
     "name": "stdout",
     "output_type": "stream",
     "text": [
      "Epoch [89/200], Training Loss: 0.4723, Training Accuracy: 78.29 %\n",
      "Validation Loss: 0.5863, Validation Accuracy: 68.50 %\n",
      "Precision: 0.6985, Recall: 0.6850, F1 Score: 0.6711\n"
     ]
    },
    {
     "name": "stderr",
     "output_type": "stream",
     "text": [
      "                                                                      \r"
     ]
    },
    {
     "name": "stdout",
     "output_type": "stream",
     "text": [
      "Epoch [90/200], Training Loss: 0.4686, Training Accuracy: 79.21 %\n",
      "Validation Loss: 0.9300, Validation Accuracy: 58.50 %\n",
      "Precision: 0.6026, Recall: 0.5850, F1 Score: 0.5717\n"
     ]
    },
    {
     "name": "stderr",
     "output_type": "stream",
     "text": [
      "                                                                      \r"
     ]
    },
    {
     "name": "stdout",
     "output_type": "stream",
     "text": [
      "Epoch [91/200], Training Loss: 0.4572, Training Accuracy: 78.93 %\n",
      "Validation Loss: 0.6295, Validation Accuracy: 69.00 %\n",
      "Precision: 0.7054, Recall: 0.6900, F1 Score: 0.6851\n"
     ]
    },
    {
     "name": "stderr",
     "output_type": "stream",
     "text": [
      "                                                                      \r"
     ]
    },
    {
     "name": "stdout",
     "output_type": "stream",
     "text": [
      "Epoch [92/200], Training Loss: 0.4546, Training Accuracy: 79.14 %\n",
      "Validation Loss: 0.6104, Validation Accuracy: 69.50 %\n",
      "Precision: 0.6948, Recall: 0.6950, F1 Score: 0.6892\n"
     ]
    },
    {
     "name": "stderr",
     "output_type": "stream",
     "text": [
      "                                                                      \r"
     ]
    },
    {
     "name": "stdout",
     "output_type": "stream",
     "text": [
      "Epoch [93/200], Training Loss: 0.4586, Training Accuracy: 80.64 %\n",
      "Validation Loss: 0.6256, Validation Accuracy: 67.50 %\n",
      "Precision: 0.6888, Recall: 0.6750, F1 Score: 0.6615\n"
     ]
    },
    {
     "name": "stderr",
     "output_type": "stream",
     "text": [
      "                                                                      \r"
     ]
    },
    {
     "name": "stdout",
     "output_type": "stream",
     "text": [
      "Epoch [94/200], Training Loss: 0.4458, Training Accuracy: 81.71 %\n",
      "Validation Loss: 0.5773, Validation Accuracy: 69.50 %\n",
      "Precision: 0.7125, Recall: 0.6950, F1 Score: 0.6796\n"
     ]
    },
    {
     "name": "stderr",
     "output_type": "stream",
     "text": [
      "                                                                      \r"
     ]
    },
    {
     "name": "stdout",
     "output_type": "stream",
     "text": [
      "Epoch [95/200], Training Loss: 0.4583, Training Accuracy: 79.50 %\n",
      "Validation Loss: 0.5897, Validation Accuracy: 66.50 %\n",
      "Precision: 0.6659, Recall: 0.6650, F1 Score: 0.6650\n"
     ]
    },
    {
     "name": "stderr",
     "output_type": "stream",
     "text": [
      "                                                                      \r"
     ]
    },
    {
     "name": "stdout",
     "output_type": "stream",
     "text": [
      "Epoch [96/200], Training Loss: 0.4550, Training Accuracy: 80.21 %\n",
      "Validation Loss: 0.5934, Validation Accuracy: 67.50 %\n",
      "Precision: 0.6834, Recall: 0.6750, F1 Score: 0.6658\n"
     ]
    },
    {
     "name": "stderr",
     "output_type": "stream",
     "text": [
      "                                                                      \r"
     ]
    },
    {
     "name": "stdout",
     "output_type": "stream",
     "text": [
      "Epoch [97/200], Training Loss: 0.4477, Training Accuracy: 79.57 %\n",
      "Validation Loss: 0.6267, Validation Accuracy: 66.50 %\n",
      "Precision: 0.6636, Recall: 0.6650, F1 Score: 0.6592\n"
     ]
    },
    {
     "name": "stderr",
     "output_type": "stream",
     "text": [
      "                                                                      \r"
     ]
    },
    {
     "name": "stdout",
     "output_type": "stream",
     "text": [
      "Epoch [98/200], Training Loss: 0.4429, Training Accuracy: 80.29 %\n",
      "Validation Loss: 0.7062, Validation Accuracy: 67.50 %\n",
      "Precision: 0.6752, Recall: 0.6750, F1 Score: 0.6701\n"
     ]
    },
    {
     "name": "stderr",
     "output_type": "stream",
     "text": [
      "                                                                      \r"
     ]
    },
    {
     "name": "stdout",
     "output_type": "stream",
     "text": [
      "Epoch [99/200], Training Loss: 0.4243, Training Accuracy: 81.21 %\n",
      "Validation Loss: 0.8147, Validation Accuracy: 69.50 %\n",
      "Precision: 0.7103, Recall: 0.6950, F1 Score: 0.6892\n"
     ]
    },
    {
     "name": "stderr",
     "output_type": "stream",
     "text": [
      "                                                                       \r"
     ]
    },
    {
     "name": "stdout",
     "output_type": "stream",
     "text": [
      "Epoch [100/200], Training Loss: 0.4364, Training Accuracy: 80.79 %\n",
      "Validation Loss: 0.7446, Validation Accuracy: 68.00 %\n",
      "Precision: 0.6966, Recall: 0.6800, F1 Score: 0.6682\n"
     ]
    },
    {
     "name": "stderr",
     "output_type": "stream",
     "text": [
      "                                                                       \r"
     ]
    },
    {
     "name": "stdout",
     "output_type": "stream",
     "text": [
      "Epoch [101/200], Training Loss: 0.4295, Training Accuracy: 79.93 %\n",
      "Validation Loss: 0.6513, Validation Accuracy: 70.50 %\n",
      "Precision: 0.7058, Recall: 0.7050, F1 Score: 0.7010\n"
     ]
    },
    {
     "name": "stderr",
     "output_type": "stream",
     "text": [
      "                                                                       \r"
     ]
    },
    {
     "name": "stdout",
     "output_type": "stream",
     "text": [
      "Epoch [102/200], Training Loss: 0.4385, Training Accuracy: 80.14 %\n",
      "Validation Loss: 0.6321, Validation Accuracy: 71.00 %\n",
      "Precision: 0.7120, Recall: 0.7100, F1 Score: 0.7050\n"
     ]
    },
    {
     "name": "stderr",
     "output_type": "stream",
     "text": [
      "                                                                       \r"
     ]
    },
    {
     "name": "stdout",
     "output_type": "stream",
     "text": [
      "Epoch [103/200], Training Loss: 0.4073, Training Accuracy: 83.00 %\n",
      "Validation Loss: 0.6470, Validation Accuracy: 66.50 %\n",
      "Precision: 0.6741, Recall: 0.6650, F1 Score: 0.6521\n"
     ]
    },
    {
     "name": "stderr",
     "output_type": "stream",
     "text": [
      "                                                                       \r"
     ]
    },
    {
     "name": "stdout",
     "output_type": "stream",
     "text": [
      "Epoch [104/200], Training Loss: 0.4035, Training Accuracy: 83.50 %\n",
      "Validation Loss: 0.7132, Validation Accuracy: 67.00 %\n",
      "Precision: 0.6776, Recall: 0.6700, F1 Score: 0.6663\n"
     ]
    },
    {
     "name": "stderr",
     "output_type": "stream",
     "text": [
      "                                                                       \r"
     ]
    },
    {
     "name": "stdout",
     "output_type": "stream",
     "text": [
      "Epoch [105/200], Training Loss: 0.4413, Training Accuracy: 80.57 %\n",
      "Validation Loss: 0.9858, Validation Accuracy: 67.50 %\n",
      "Precision: 0.6798, Recall: 0.6750, F1 Score: 0.6673\n"
     ]
    },
    {
     "name": "stderr",
     "output_type": "stream",
     "text": [
      "                                                                       \r"
     ]
    },
    {
     "name": "stdout",
     "output_type": "stream",
     "text": [
      "Epoch [106/200], Training Loss: 0.3999, Training Accuracy: 83.14 %\n",
      "Validation Loss: 0.6091, Validation Accuracy: 69.50 %\n",
      "Precision: 0.7129, Recall: 0.6950, F1 Score: 0.6826\n"
     ]
    },
    {
     "name": "stderr",
     "output_type": "stream",
     "text": [
      "                                                                       \r"
     ]
    },
    {
     "name": "stdout",
     "output_type": "stream",
     "text": [
      "Epoch [107/200], Training Loss: 0.4026, Training Accuracy: 83.79 %\n",
      "Validation Loss: 0.6294, Validation Accuracy: 68.50 %\n",
      "Precision: 0.6854, Recall: 0.6850, F1 Score: 0.6822\n"
     ]
    },
    {
     "name": "stderr",
     "output_type": "stream",
     "text": [
      "                                                                       \r"
     ]
    },
    {
     "name": "stdout",
     "output_type": "stream",
     "text": [
      "Epoch [108/200], Training Loss: 0.4018, Training Accuracy: 82.29 %\n",
      "Validation Loss: 0.6679, Validation Accuracy: 72.50 %\n",
      "Precision: 0.7234, Recall: 0.7250, F1 Score: 0.7227\n"
     ]
    },
    {
     "name": "stderr",
     "output_type": "stream",
     "text": [
      "                                                                       \r"
     ]
    },
    {
     "name": "stdout",
     "output_type": "stream",
     "text": [
      "Epoch [109/200], Training Loss: 0.4075, Training Accuracy: 82.64 %\n",
      "Validation Loss: 0.8208, Validation Accuracy: 70.50 %\n",
      "Precision: 0.7077, Recall: 0.7050, F1 Score: 0.7019\n"
     ]
    },
    {
     "name": "stderr",
     "output_type": "stream",
     "text": [
      "                                                                       \r"
     ]
    },
    {
     "name": "stdout",
     "output_type": "stream",
     "text": [
      "Epoch [110/200], Training Loss: 0.4064, Training Accuracy: 83.07 %\n",
      "Validation Loss: 0.7063, Validation Accuracy: 71.00 %\n",
      "Precision: 0.7097, Recall: 0.7100, F1 Score: 0.7068\n"
     ]
    },
    {
     "name": "stderr",
     "output_type": "stream",
     "text": [
      "                                                                       \r"
     ]
    },
    {
     "name": "stdout",
     "output_type": "stream",
     "text": [
      "Epoch [111/200], Training Loss: 0.4022, Training Accuracy: 82.71 %\n",
      "Validation Loss: 0.8005, Validation Accuracy: 67.50 %\n",
      "Precision: 0.6725, Recall: 0.6750, F1 Score: 0.6719\n"
     ]
    },
    {
     "name": "stderr",
     "output_type": "stream",
     "text": [
      "                                                                       \r"
     ]
    },
    {
     "name": "stdout",
     "output_type": "stream",
     "text": [
      "Epoch [112/200], Training Loss: 0.3984, Training Accuracy: 83.07 %\n",
      "Validation Loss: 0.7616, Validation Accuracy: 69.00 %\n",
      "Precision: 0.6949, Recall: 0.6900, F1 Score: 0.6885\n"
     ]
    },
    {
     "name": "stderr",
     "output_type": "stream",
     "text": [
      "                                                                       \r"
     ]
    },
    {
     "name": "stdout",
     "output_type": "stream",
     "text": [
      "Epoch [113/200], Training Loss: 0.3906, Training Accuracy: 82.50 %\n",
      "Validation Loss: 0.6573, Validation Accuracy: 70.00 %\n",
      "Precision: 0.6965, Recall: 0.7000, F1 Score: 0.6972\n"
     ]
    },
    {
     "name": "stderr",
     "output_type": "stream",
     "text": [
      "                                                                       \r"
     ]
    },
    {
     "name": "stdout",
     "output_type": "stream",
     "text": [
      "Epoch [114/200], Training Loss: 0.4100, Training Accuracy: 82.14 %\n",
      "Validation Loss: 0.7096, Validation Accuracy: 68.50 %\n",
      "Precision: 0.6852, Recall: 0.6850, F1 Score: 0.6786\n"
     ]
    },
    {
     "name": "stderr",
     "output_type": "stream",
     "text": [
      "                                                                       \r"
     ]
    },
    {
     "name": "stdout",
     "output_type": "stream",
     "text": [
      "Epoch [115/200], Training Loss: 0.4341, Training Accuracy: 81.36 %\n",
      "Validation Loss: 0.6368, Validation Accuracy: 70.00 %\n",
      "Precision: 0.7070, Recall: 0.7000, F1 Score: 0.6928\n"
     ]
    },
    {
     "name": "stderr",
     "output_type": "stream",
     "text": [
      "                                                                       \r"
     ]
    },
    {
     "name": "stdout",
     "output_type": "stream",
     "text": [
      "Epoch [116/200], Training Loss: 0.3832, Training Accuracy: 83.64 %\n",
      "Validation Loss: 0.6186, Validation Accuracy: 72.50 %\n",
      "Precision: 0.7237, Recall: 0.7250, F1 Score: 0.7234\n"
     ]
    },
    {
     "name": "stderr",
     "output_type": "stream",
     "text": [
      "                                                                       \r"
     ]
    },
    {
     "name": "stdout",
     "output_type": "stream",
     "text": [
      "Epoch [117/200], Training Loss: 0.4028, Training Accuracy: 82.57 %\n",
      "Validation Loss: 0.7331, Validation Accuracy: 70.50 %\n",
      "Precision: 0.7036, Recall: 0.7050, F1 Score: 0.7017\n"
     ]
    },
    {
     "name": "stderr",
     "output_type": "stream",
     "text": [
      "                                                                       \r"
     ]
    },
    {
     "name": "stdout",
     "output_type": "stream",
     "text": [
      "Epoch [118/200], Training Loss: 0.3661, Training Accuracy: 83.14 %\n",
      "Validation Loss: 0.6161, Validation Accuracy: 70.50 %\n",
      "Precision: 0.7024, Recall: 0.7050, F1 Score: 0.7017\n"
     ]
    },
    {
     "name": "stderr",
     "output_type": "stream",
     "text": [
      "                                                                       \r"
     ]
    },
    {
     "name": "stdout",
     "output_type": "stream",
     "text": [
      "Epoch [119/200], Training Loss: 0.3885, Training Accuracy: 84.00 %\n",
      "Validation Loss: 0.7623, Validation Accuracy: 69.50 %\n",
      "Precision: 0.7069, Recall: 0.6950, F1 Score: 0.6866\n"
     ]
    },
    {
     "name": "stderr",
     "output_type": "stream",
     "text": [
      "                                                                       \r"
     ]
    },
    {
     "name": "stdout",
     "output_type": "stream",
     "text": [
      "Epoch [120/200], Training Loss: 0.3555, Training Accuracy: 83.57 %\n",
      "Validation Loss: 0.6327, Validation Accuracy: 71.00 %\n",
      "Precision: 0.7091, Recall: 0.7100, F1 Score: 0.7077\n"
     ]
    },
    {
     "name": "stderr",
     "output_type": "stream",
     "text": [
      "                                                                       \r"
     ]
    },
    {
     "name": "stdout",
     "output_type": "stream",
     "text": [
      "Epoch [121/200], Training Loss: 0.3570, Training Accuracy: 83.64 %\n",
      "Validation Loss: 0.6631, Validation Accuracy: 74.00 %\n",
      "Precision: 0.7423, Recall: 0.7400, F1 Score: 0.7379\n"
     ]
    },
    {
     "name": "stderr",
     "output_type": "stream",
     "text": [
      "                                                                       \r"
     ]
    },
    {
     "name": "stdout",
     "output_type": "stream",
     "text": [
      "Epoch [122/200], Training Loss: 0.3745, Training Accuracy: 84.50 %\n",
      "Validation Loss: 0.6594, Validation Accuracy: 69.50 %\n",
      "Precision: 0.6951, Recall: 0.6950, F1 Score: 0.6916\n"
     ]
    },
    {
     "name": "stderr",
     "output_type": "stream",
     "text": [
      "                                                                       \r"
     ]
    },
    {
     "name": "stdout",
     "output_type": "stream",
     "text": [
      "Epoch [123/200], Training Loss: 0.3692, Training Accuracy: 84.14 %\n",
      "Validation Loss: 0.6201, Validation Accuracy: 69.50 %\n",
      "Precision: 0.6961, Recall: 0.6950, F1 Score: 0.6884\n"
     ]
    },
    {
     "name": "stderr",
     "output_type": "stream",
     "text": [
      "                                                                       \r"
     ]
    },
    {
     "name": "stdout",
     "output_type": "stream",
     "text": [
      "Epoch [124/200], Training Loss: 0.3546, Training Accuracy: 84.93 %\n",
      "Validation Loss: 0.7167, Validation Accuracy: 68.50 %\n",
      "Precision: 0.6950, Recall: 0.6850, F1 Score: 0.6784\n"
     ]
    },
    {
     "name": "stderr",
     "output_type": "stream",
     "text": [
      "                                                                       \r"
     ]
    },
    {
     "name": "stdout",
     "output_type": "stream",
     "text": [
      "Epoch [125/200], Training Loss: 0.3395, Training Accuracy: 85.07 %\n",
      "Validation Loss: 0.8048, Validation Accuracy: 68.00 %\n",
      "Precision: 0.6800, Recall: 0.6800, F1 Score: 0.6793\n"
     ]
    },
    {
     "name": "stderr",
     "output_type": "stream",
     "text": [
      "                                                                       \r"
     ]
    },
    {
     "name": "stdout",
     "output_type": "stream",
     "text": [
      "Epoch [126/200], Training Loss: 0.3740, Training Accuracy: 84.00 %\n",
      "Validation Loss: 0.6305, Validation Accuracy: 69.00 %\n",
      "Precision: 0.6883, Recall: 0.6900, F1 Score: 0.6878\n"
     ]
    },
    {
     "name": "stderr",
     "output_type": "stream",
     "text": [
      "                                                                       \r"
     ]
    },
    {
     "name": "stdout",
     "output_type": "stream",
     "text": [
      "Epoch [127/200], Training Loss: 0.3519, Training Accuracy: 86.00 %\n",
      "Validation Loss: 0.6012, Validation Accuracy: 69.50 %\n",
      "Precision: 0.6918, Recall: 0.6950, F1 Score: 0.6904\n"
     ]
    },
    {
     "name": "stderr",
     "output_type": "stream",
     "text": [
      "                                                                       \r"
     ]
    },
    {
     "name": "stdout",
     "output_type": "stream",
     "text": [
      "Epoch [128/200], Training Loss: 0.3393, Training Accuracy: 86.50 %\n",
      "Validation Loss: 0.6648, Validation Accuracy: 71.50 %\n",
      "Precision: 0.7232, Recall: 0.7150, F1 Score: 0.7085\n"
     ]
    },
    {
     "name": "stderr",
     "output_type": "stream",
     "text": [
      "                                                                       \r"
     ]
    },
    {
     "name": "stdout",
     "output_type": "stream",
     "text": [
      "Epoch [129/200], Training Loss: 0.3483, Training Accuracy: 84.93 %\n",
      "Validation Loss: 0.7655, Validation Accuracy: 66.00 %\n",
      "Precision: 0.6626, Recall: 0.6600, F1 Score: 0.6513\n"
     ]
    },
    {
     "name": "stderr",
     "output_type": "stream",
     "text": [
      "                                                                       \r"
     ]
    },
    {
     "name": "stdout",
     "output_type": "stream",
     "text": [
      "Epoch [130/200], Training Loss: 0.3674, Training Accuracy: 84.71 %\n",
      "Validation Loss: 0.7846, Validation Accuracy: 66.50 %\n",
      "Precision: 0.6628, Recall: 0.6650, F1 Score: 0.6620\n"
     ]
    },
    {
     "name": "stderr",
     "output_type": "stream",
     "text": [
      "                                                                       \r"
     ]
    },
    {
     "name": "stdout",
     "output_type": "stream",
     "text": [
      "Epoch [131/200], Training Loss: 0.3573, Training Accuracy: 85.14 %\n",
      "Validation Loss: 0.5179, Validation Accuracy: 71.00 %\n",
      "Precision: 0.7274, Recall: 0.7100, F1 Score: 0.7002\n",
      "Saved new best model by validation loss!\n"
     ]
    },
    {
     "name": "stderr",
     "output_type": "stream",
     "text": [
      "                                                                       \r"
     ]
    },
    {
     "name": "stdout",
     "output_type": "stream",
     "text": [
      "Epoch [132/200], Training Loss: 0.4342, Training Accuracy: 82.14 %\n",
      "Validation Loss: 0.6215, Validation Accuracy: 68.50 %\n",
      "Precision: 0.6976, Recall: 0.6850, F1 Score: 0.6770\n"
     ]
    },
    {
     "name": "stderr",
     "output_type": "stream",
     "text": [
      "                                                                       \r"
     ]
    },
    {
     "name": "stdout",
     "output_type": "stream",
     "text": [
      "Epoch [133/200], Training Loss: 0.3626, Training Accuracy: 83.86 %\n",
      "Validation Loss: 0.5774, Validation Accuracy: 70.50 %\n",
      "Precision: 0.7115, Recall: 0.7050, F1 Score: 0.6997\n"
     ]
    },
    {
     "name": "stderr",
     "output_type": "stream",
     "text": [
      "                                                                       \r"
     ]
    },
    {
     "name": "stdout",
     "output_type": "stream",
     "text": [
      "Epoch [134/200], Training Loss: 0.3684, Training Accuracy: 83.36 %\n",
      "Validation Loss: 0.5910, Validation Accuracy: 69.50 %\n",
      "Precision: 0.6977, Recall: 0.6950, F1 Score: 0.6882\n"
     ]
    },
    {
     "name": "stderr",
     "output_type": "stream",
     "text": [
      "                                                                       \r"
     ]
    },
    {
     "name": "stdout",
     "output_type": "stream",
     "text": [
      "Epoch [135/200], Training Loss: 0.3549, Training Accuracy: 84.50 %\n",
      "Validation Loss: 0.6488, Validation Accuracy: 69.50 %\n",
      "Precision: 0.6925, Recall: 0.6950, F1 Score: 0.6922\n"
     ]
    },
    {
     "name": "stderr",
     "output_type": "stream",
     "text": [
      "                                                                       \r"
     ]
    },
    {
     "name": "stdout",
     "output_type": "stream",
     "text": [
      "Epoch [136/200], Training Loss: 0.3306, Training Accuracy: 86.29 %\n",
      "Validation Loss: 0.6635, Validation Accuracy: 71.50 %\n",
      "Precision: 0.7170, Recall: 0.7150, F1 Score: 0.7117\n"
     ]
    },
    {
     "name": "stderr",
     "output_type": "stream",
     "text": [
      "                                                                       \r"
     ]
    },
    {
     "name": "stdout",
     "output_type": "stream",
     "text": [
      "Epoch [137/200], Training Loss: 0.3453, Training Accuracy: 85.64 %\n",
      "Validation Loss: 0.8574, Validation Accuracy: 67.50 %\n",
      "Precision: 0.6742, Recall: 0.6750, F1 Score: 0.6742\n"
     ]
    },
    {
     "name": "stderr",
     "output_type": "stream",
     "text": [
      "                                                                       \r"
     ]
    },
    {
     "name": "stdout",
     "output_type": "stream",
     "text": [
      "Epoch [138/200], Training Loss: 0.3307, Training Accuracy: 85.21 %\n",
      "Validation Loss: 0.7332, Validation Accuracy: 68.50 %\n",
      "Precision: 0.6888, Recall: 0.6850, F1 Score: 0.6788\n"
     ]
    },
    {
     "name": "stderr",
     "output_type": "stream",
     "text": [
      "                                                                       \r"
     ]
    },
    {
     "name": "stdout",
     "output_type": "stream",
     "text": [
      "Epoch [139/200], Training Loss: 0.3357, Training Accuracy: 86.21 %\n",
      "Validation Loss: 0.6308, Validation Accuracy: 71.50 %\n",
      "Precision: 0.7163, Recall: 0.7150, F1 Score: 0.7115\n"
     ]
    },
    {
     "name": "stderr",
     "output_type": "stream",
     "text": [
      "                                                                       \r"
     ]
    },
    {
     "name": "stdout",
     "output_type": "stream",
     "text": [
      "Epoch [140/200], Training Loss: 0.3260, Training Accuracy: 87.50 %\n",
      "Validation Loss: 0.7002, Validation Accuracy: 69.00 %\n",
      "Precision: 0.6899, Recall: 0.6900, F1 Score: 0.6873\n"
     ]
    },
    {
     "name": "stderr",
     "output_type": "stream",
     "text": [
      "                                                                       \r"
     ]
    },
    {
     "name": "stdout",
     "output_type": "stream",
     "text": [
      "Epoch [141/200], Training Loss: 0.3191, Training Accuracy: 86.57 %\n",
      "Validation Loss: 0.5758, Validation Accuracy: 73.00 %\n",
      "Precision: 0.7352, Recall: 0.7300, F1 Score: 0.7272\n"
     ]
    },
    {
     "name": "stderr",
     "output_type": "stream",
     "text": [
      "                                                                       \r"
     ]
    },
    {
     "name": "stdout",
     "output_type": "stream",
     "text": [
      "Epoch [142/200], Training Loss: 0.3368, Training Accuracy: 85.43 %\n",
      "Validation Loss: 0.6359, Validation Accuracy: 68.50 %\n",
      "Precision: 0.6860, Recall: 0.6850, F1 Score: 0.6789\n"
     ]
    },
    {
     "name": "stderr",
     "output_type": "stream",
     "text": [
      "                                                                       \r"
     ]
    },
    {
     "name": "stdout",
     "output_type": "stream",
     "text": [
      "Epoch [143/200], Training Loss: 0.3045, Training Accuracy: 86.50 %\n",
      "Validation Loss: 0.7579, Validation Accuracy: 72.00 %\n",
      "Precision: 0.7173, Recall: 0.7200, F1 Score: 0.7174\n"
     ]
    },
    {
     "name": "stderr",
     "output_type": "stream",
     "text": [
      "                                                                       \r"
     ]
    },
    {
     "name": "stdout",
     "output_type": "stream",
     "text": [
      "Epoch [144/200], Training Loss: 0.3108, Training Accuracy: 87.29 %\n",
      "Validation Loss: 0.6106, Validation Accuracy: 69.00 %\n",
      "Precision: 0.6889, Recall: 0.6900, F1 Score: 0.6888\n"
     ]
    },
    {
     "name": "stderr",
     "output_type": "stream",
     "text": [
      "                                                                       \r"
     ]
    },
    {
     "name": "stdout",
     "output_type": "stream",
     "text": [
      "Epoch [145/200], Training Loss: 0.3131, Training Accuracy: 87.21 %\n",
      "Validation Loss: 0.6807, Validation Accuracy: 67.50 %\n",
      "Precision: 0.6749, Recall: 0.6750, F1 Score: 0.6741\n"
     ]
    },
    {
     "name": "stderr",
     "output_type": "stream",
     "text": [
      "                                                                       \r"
     ]
    },
    {
     "name": "stdout",
     "output_type": "stream",
     "text": [
      "Epoch [146/200], Training Loss: 0.2816, Training Accuracy: 88.71 %\n",
      "Validation Loss: 0.7014, Validation Accuracy: 69.50 %\n",
      "Precision: 0.6985, Recall: 0.6950, F1 Score: 0.6901\n"
     ]
    },
    {
     "name": "stderr",
     "output_type": "stream",
     "text": [
      "                                                                       \r"
     ]
    },
    {
     "name": "stdout",
     "output_type": "stream",
     "text": [
      "Epoch [147/200], Training Loss: 0.2988, Training Accuracy: 87.50 %\n",
      "Validation Loss: 0.6335, Validation Accuracy: 68.00 %\n",
      "Precision: 0.6783, Recall: 0.6800, F1 Score: 0.6767\n"
     ]
    },
    {
     "name": "stderr",
     "output_type": "stream",
     "text": [
      "                                                                       \r"
     ]
    },
    {
     "name": "stdout",
     "output_type": "stream",
     "text": [
      "Epoch [148/200], Training Loss: 0.2946, Training Accuracy: 86.79 %\n",
      "Validation Loss: 0.6992, Validation Accuracy: 69.50 %\n",
      "Precision: 0.6942, Recall: 0.6950, F1 Score: 0.6933\n"
     ]
    },
    {
     "name": "stderr",
     "output_type": "stream",
     "text": [
      "                                                                       \r"
     ]
    },
    {
     "name": "stdout",
     "output_type": "stream",
     "text": [
      "Epoch [149/200], Training Loss: 0.2786, Training Accuracy: 88.43 %\n",
      "Validation Loss: 0.6578, Validation Accuracy: 69.00 %\n",
      "Precision: 0.7126, Recall: 0.6900, F1 Score: 0.6726\n"
     ]
    },
    {
     "name": "stderr",
     "output_type": "stream",
     "text": [
      "                                                                       \r"
     ]
    },
    {
     "name": "stdout",
     "output_type": "stream",
     "text": [
      "Epoch [150/200], Training Loss: 0.2779, Training Accuracy: 88.86 %\n",
      "Validation Loss: 1.0002, Validation Accuracy: 68.50 %\n",
      "Precision: 0.6822, Recall: 0.6850, F1 Score: 0.6821\n"
     ]
    },
    {
     "name": "stderr",
     "output_type": "stream",
     "text": [
      "                                                                       \r"
     ]
    },
    {
     "name": "stdout",
     "output_type": "stream",
     "text": [
      "Epoch [151/200], Training Loss: 0.2882, Training Accuracy: 88.36 %\n",
      "Validation Loss: 0.8135, Validation Accuracy: 67.50 %\n",
      "Precision: 0.6750, Recall: 0.6750, F1 Score: 0.6665\n"
     ]
    },
    {
     "name": "stderr",
     "output_type": "stream",
     "text": [
      "                                                                       \r"
     ]
    },
    {
     "name": "stdout",
     "output_type": "stream",
     "text": [
      "Epoch [152/200], Training Loss: 0.2614, Training Accuracy: 89.36 %\n",
      "Validation Loss: 0.6517, Validation Accuracy: 70.50 %\n",
      "Precision: 0.7050, Recall: 0.7050, F1 Score: 0.7048\n"
     ]
    },
    {
     "name": "stderr",
     "output_type": "stream",
     "text": [
      "                                                                       \r"
     ]
    },
    {
     "name": "stdout",
     "output_type": "stream",
     "text": [
      "Epoch [153/200], Training Loss: 0.2892, Training Accuracy: 88.14 %\n",
      "Validation Loss: 0.7560, Validation Accuracy: 70.50 %\n",
      "Precision: 0.7114, Recall: 0.7050, F1 Score: 0.6983\n"
     ]
    },
    {
     "name": "stderr",
     "output_type": "stream",
     "text": [
      "                                                                       \r"
     ]
    },
    {
     "name": "stdout",
     "output_type": "stream",
     "text": [
      "Epoch [154/200], Training Loss: 0.2731, Training Accuracy: 89.14 %\n",
      "Validation Loss: 0.7161, Validation Accuracy: 70.50 %\n",
      "Precision: 0.7065, Recall: 0.7050, F1 Score: 0.7056\n"
     ]
    },
    {
     "name": "stderr",
     "output_type": "stream",
     "text": [
      "                                                                       \r"
     ]
    },
    {
     "name": "stdout",
     "output_type": "stream",
     "text": [
      "Epoch [155/200], Training Loss: 0.2731, Training Accuracy: 88.43 %\n",
      "Validation Loss: 0.9038, Validation Accuracy: 69.50 %\n",
      "Precision: 0.6918, Recall: 0.6950, F1 Score: 0.6917\n"
     ]
    },
    {
     "name": "stderr",
     "output_type": "stream",
     "text": [
      "                                                                       \r"
     ]
    },
    {
     "name": "stdout",
     "output_type": "stream",
     "text": [
      "Epoch [156/200], Training Loss: 0.2949, Training Accuracy: 87.93 %\n",
      "Validation Loss: 0.6197, Validation Accuracy: 68.50 %\n",
      "Precision: 0.6842, Recall: 0.6850, F1 Score: 0.6793\n"
     ]
    },
    {
     "name": "stderr",
     "output_type": "stream",
     "text": [
      "                                                                       \r"
     ]
    },
    {
     "name": "stdout",
     "output_type": "stream",
     "text": [
      "Epoch [157/200], Training Loss: 0.2802, Training Accuracy: 88.93 %\n",
      "Validation Loss: 0.7519, Validation Accuracy: 72.00 %\n",
      "Precision: 0.7301, Recall: 0.7200, F1 Score: 0.7129\n"
     ]
    },
    {
     "name": "stderr",
     "output_type": "stream",
     "text": [
      "                                                                       \r"
     ]
    },
    {
     "name": "stdout",
     "output_type": "stream",
     "text": [
      "Epoch [158/200], Training Loss: 0.2805, Training Accuracy: 88.29 %\n",
      "Validation Loss: 0.8355, Validation Accuracy: 71.50 %\n",
      "Precision: 0.7174, Recall: 0.7150, F1 Score: 0.7091\n"
     ]
    },
    {
     "name": "stderr",
     "output_type": "stream",
     "text": [
      "                                                                       \r"
     ]
    },
    {
     "name": "stdout",
     "output_type": "stream",
     "text": [
      "Epoch [159/200], Training Loss: 0.3123, Training Accuracy: 86.86 %\n",
      "Validation Loss: 0.8084, Validation Accuracy: 67.50 %\n",
      "Precision: 0.6742, Recall: 0.6750, F1 Score: 0.6715\n"
     ]
    },
    {
     "name": "stderr",
     "output_type": "stream",
     "text": [
      "                                                                       \r"
     ]
    },
    {
     "name": "stdout",
     "output_type": "stream",
     "text": [
      "Epoch [160/200], Training Loss: 0.3148, Training Accuracy: 86.71 %\n",
      "Validation Loss: 0.7129, Validation Accuracy: 72.50 %\n",
      "Precision: 0.7230, Recall: 0.7250, F1 Score: 0.7231\n"
     ]
    },
    {
     "name": "stderr",
     "output_type": "stream",
     "text": [
      "                                                                       \r"
     ]
    },
    {
     "name": "stdout",
     "output_type": "stream",
     "text": [
      "Epoch [161/200], Training Loss: 0.2701, Training Accuracy: 88.29 %\n",
      "Validation Loss: 0.7330, Validation Accuracy: 68.50 %\n",
      "Precision: 0.6852, Recall: 0.6850, F1 Score: 0.6851\n"
     ]
    },
    {
     "name": "stderr",
     "output_type": "stream",
     "text": [
      "                                                                       \r"
     ]
    },
    {
     "name": "stdout",
     "output_type": "stream",
     "text": [
      "Epoch [162/200], Training Loss: 0.2770, Training Accuracy: 88.86 %\n",
      "Validation Loss: 0.6469, Validation Accuracy: 71.00 %\n",
      "Precision: 0.7065, Recall: 0.7100, F1 Score: 0.7062\n"
     ]
    },
    {
     "name": "stderr",
     "output_type": "stream",
     "text": [
      "                                                                       \r"
     ]
    },
    {
     "name": "stdout",
     "output_type": "stream",
     "text": [
      "Epoch [163/200], Training Loss: 0.2796, Training Accuracy: 88.57 %\n",
      "Validation Loss: 0.5951, Validation Accuracy: 71.00 %\n",
      "Precision: 0.7088, Recall: 0.7100, F1 Score: 0.7080\n"
     ]
    },
    {
     "name": "stderr",
     "output_type": "stream",
     "text": [
      "                                                                       \r"
     ]
    },
    {
     "name": "stdout",
     "output_type": "stream",
     "text": [
      "Epoch [164/200], Training Loss: 0.2420, Training Accuracy: 91.00 %\n",
      "Validation Loss: 0.6260, Validation Accuracy: 71.00 %\n",
      "Precision: 0.7086, Recall: 0.7100, F1 Score: 0.7077\n"
     ]
    },
    {
     "name": "stderr",
     "output_type": "stream",
     "text": [
      "                                                                       \r"
     ]
    },
    {
     "name": "stdout",
     "output_type": "stream",
     "text": [
      "Epoch [165/200], Training Loss: 0.2604, Training Accuracy: 90.43 %\n",
      "Validation Loss: 0.7319, Validation Accuracy: 65.00 %\n",
      "Precision: 0.6469, Recall: 0.6500, F1 Score: 0.6459\n"
     ]
    },
    {
     "name": "stderr",
     "output_type": "stream",
     "text": [
      "                                                                       \r"
     ]
    },
    {
     "name": "stdout",
     "output_type": "stream",
     "text": [
      "Epoch [166/200], Training Loss: 0.3172, Training Accuracy: 87.07 %\n",
      "Validation Loss: 0.9388, Validation Accuracy: 69.00 %\n",
      "Precision: 0.6924, Recall: 0.6900, F1 Score: 0.6864\n"
     ]
    },
    {
     "name": "stderr",
     "output_type": "stream",
     "text": [
      "                                                                       \r"
     ]
    },
    {
     "name": "stdout",
     "output_type": "stream",
     "text": [
      "Epoch [167/200], Training Loss: 0.2821, Training Accuracy: 88.71 %\n",
      "Validation Loss: 0.6088, Validation Accuracy: 72.00 %\n",
      "Precision: 0.7251, Recall: 0.7200, F1 Score: 0.7149\n"
     ]
    },
    {
     "name": "stderr",
     "output_type": "stream",
     "text": [
      "                                                                       \r"
     ]
    },
    {
     "name": "stdout",
     "output_type": "stream",
     "text": [
      "Epoch [168/200], Training Loss: 0.2620, Training Accuracy: 89.57 %\n",
      "Validation Loss: 0.6354, Validation Accuracy: 69.00 %\n",
      "Precision: 0.6909, Recall: 0.6900, F1 Score: 0.6859\n"
     ]
    },
    {
     "name": "stderr",
     "output_type": "stream",
     "text": [
      "                                                                       \r"
     ]
    },
    {
     "name": "stdout",
     "output_type": "stream",
     "text": [
      "Epoch [169/200], Training Loss: 0.2394, Training Accuracy: 91.00 %\n",
      "Validation Loss: 0.6376, Validation Accuracy: 71.00 %\n",
      "Precision: 0.7089, Recall: 0.7100, F1 Score: 0.7058\n"
     ]
    },
    {
     "name": "stderr",
     "output_type": "stream",
     "text": [
      "                                                                       \r"
     ]
    },
    {
     "name": "stdout",
     "output_type": "stream",
     "text": [
      "Epoch [170/200], Training Loss: 0.2475, Training Accuracy: 90.21 %\n",
      "Validation Loss: 0.6388, Validation Accuracy: 73.00 %\n",
      "Precision: 0.7336, Recall: 0.7300, F1 Score: 0.7278\n"
     ]
    },
    {
     "name": "stderr",
     "output_type": "stream",
     "text": [
      "                                                                       \r"
     ]
    },
    {
     "name": "stdout",
     "output_type": "stream",
     "text": [
      "Epoch [171/200], Training Loss: 0.2495, Training Accuracy: 90.50 %\n",
      "Validation Loss: 0.9145, Validation Accuracy: 65.50 %\n",
      "Precision: 0.6709, Recall: 0.6550, F1 Score: 0.6451\n"
     ]
    },
    {
     "name": "stderr",
     "output_type": "stream",
     "text": [
      "                                                                       \r"
     ]
    },
    {
     "name": "stdout",
     "output_type": "stream",
     "text": [
      "Epoch [172/200], Training Loss: 0.2673, Training Accuracy: 89.00 %\n",
      "Validation Loss: 1.2787, Validation Accuracy: 69.50 %\n",
      "Precision: 0.6939, Recall: 0.6950, F1 Score: 0.6906\n"
     ]
    },
    {
     "name": "stderr",
     "output_type": "stream",
     "text": [
      "                                                                       \r"
     ]
    },
    {
     "name": "stdout",
     "output_type": "stream",
     "text": [
      "Epoch [173/200], Training Loss: 0.2626, Training Accuracy: 89.57 %\n",
      "Validation Loss: 0.7564, Validation Accuracy: 67.00 %\n",
      "Precision: 0.6861, Recall: 0.6700, F1 Score: 0.6574\n"
     ]
    },
    {
     "name": "stderr",
     "output_type": "stream",
     "text": [
      "                                                                       \r"
     ]
    },
    {
     "name": "stdout",
     "output_type": "stream",
     "text": [
      "Epoch [174/200], Training Loss: 0.2535, Training Accuracy: 90.86 %\n",
      "Validation Loss: 0.7803, Validation Accuracy: 73.00 %\n",
      "Precision: 0.7307, Recall: 0.7300, F1 Score: 0.7303\n"
     ]
    },
    {
     "name": "stderr",
     "output_type": "stream",
     "text": [
      "                                                                       \r"
     ]
    },
    {
     "name": "stdout",
     "output_type": "stream",
     "text": [
      "Epoch [175/200], Training Loss: 0.2732, Training Accuracy: 89.21 %\n",
      "Validation Loss: 0.7673, Validation Accuracy: 71.50 %\n",
      "Precision: 0.7215, Recall: 0.7150, F1 Score: 0.7133\n"
     ]
    },
    {
     "name": "stderr",
     "output_type": "stream",
     "text": [
      "                                                                       \r"
     ]
    },
    {
     "name": "stdout",
     "output_type": "stream",
     "text": [
      "Epoch [176/200], Training Loss: 0.2786, Training Accuracy: 89.29 %\n",
      "Validation Loss: 0.7776, Validation Accuracy: 70.00 %\n",
      "Precision: 0.6986, Recall: 0.7000, F1 Score: 0.6975\n"
     ]
    },
    {
     "name": "stderr",
     "output_type": "stream",
     "text": [
      "                                                                       \r"
     ]
    },
    {
     "name": "stdout",
     "output_type": "stream",
     "text": [
      "Epoch [177/200], Training Loss: 0.2400, Training Accuracy: 90.64 %\n",
      "Validation Loss: 1.0428, Validation Accuracy: 69.00 %\n",
      "Precision: 0.6945, Recall: 0.6900, F1 Score: 0.6817\n"
     ]
    },
    {
     "name": "stderr",
     "output_type": "stream",
     "text": [
      "                                                                       \r"
     ]
    },
    {
     "name": "stdout",
     "output_type": "stream",
     "text": [
      "Epoch [178/200], Training Loss: 0.2534, Training Accuracy: 89.57 %\n",
      "Validation Loss: 0.6753, Validation Accuracy: 72.00 %\n",
      "Precision: 0.7185, Recall: 0.7200, F1 Score: 0.7187\n"
     ]
    },
    {
     "name": "stderr",
     "output_type": "stream",
     "text": [
      "                                                                       \r"
     ]
    },
    {
     "name": "stdout",
     "output_type": "stream",
     "text": [
      "Epoch [179/200], Training Loss: 0.2181, Training Accuracy: 91.14 %\n",
      "Validation Loss: 0.7194, Validation Accuracy: 71.50 %\n",
      "Precision: 0.7142, Recall: 0.7150, F1 Score: 0.7119\n"
     ]
    },
    {
     "name": "stderr",
     "output_type": "stream",
     "text": [
      "                                                                       \r"
     ]
    },
    {
     "name": "stdout",
     "output_type": "stream",
     "text": [
      "Epoch [180/200], Training Loss: 0.2372, Training Accuracy: 90.93 %\n",
      "Validation Loss: 0.8759, Validation Accuracy: 71.50 %\n",
      "Precision: 0.7189, Recall: 0.7150, F1 Score: 0.7085\n"
     ]
    },
    {
     "name": "stderr",
     "output_type": "stream",
     "text": [
      "                                                                       \r"
     ]
    },
    {
     "name": "stdout",
     "output_type": "stream",
     "text": [
      "Epoch [181/200], Training Loss: 0.2726, Training Accuracy: 88.93 %\n",
      "Validation Loss: 0.8461, Validation Accuracy: 69.50 %\n",
      "Precision: 0.6922, Recall: 0.6950, F1 Score: 0.6915\n"
     ]
    },
    {
     "name": "stderr",
     "output_type": "stream",
     "text": [
      "                                                                       \r"
     ]
    },
    {
     "name": "stdout",
     "output_type": "stream",
     "text": [
      "Epoch [182/200], Training Loss: 0.2153, Training Accuracy: 91.07 %\n",
      "Validation Loss: 0.8737, Validation Accuracy: 68.00 %\n",
      "Precision: 0.6810, Recall: 0.6800, F1 Score: 0.6748\n"
     ]
    },
    {
     "name": "stderr",
     "output_type": "stream",
     "text": [
      "                                                                       \r"
     ]
    },
    {
     "name": "stdout",
     "output_type": "stream",
     "text": [
      "Epoch [183/200], Training Loss: 0.2144, Training Accuracy: 91.21 %\n",
      "Validation Loss: 0.7726, Validation Accuracy: 68.50 %\n",
      "Precision: 0.6853, Recall: 0.6850, F1 Score: 0.6835\n"
     ]
    },
    {
     "name": "stderr",
     "output_type": "stream",
     "text": [
      "                                                                       \r"
     ]
    },
    {
     "name": "stdout",
     "output_type": "stream",
     "text": [
      "Epoch [184/200], Training Loss: 0.2445, Training Accuracy: 90.14 %\n",
      "Validation Loss: 0.9757, Validation Accuracy: 70.50 %\n",
      "Precision: 0.7035, Recall: 0.7050, F1 Score: 0.7016\n"
     ]
    },
    {
     "name": "stderr",
     "output_type": "stream",
     "text": [
      "                                                                       \r"
     ]
    },
    {
     "name": "stdout",
     "output_type": "stream",
     "text": [
      "Epoch [185/200], Training Loss: 0.2315, Training Accuracy: 90.79 %\n",
      "Validation Loss: 0.7088, Validation Accuracy: 72.00 %\n",
      "Precision: 0.7187, Recall: 0.7200, F1 Score: 0.7178\n"
     ]
    },
    {
     "name": "stderr",
     "output_type": "stream",
     "text": [
      "                                                                       \r"
     ]
    },
    {
     "name": "stdout",
     "output_type": "stream",
     "text": [
      "Epoch [186/200], Training Loss: 0.2481, Training Accuracy: 91.43 %\n",
      "Validation Loss: 0.7751, Validation Accuracy: 72.00 %\n",
      "Precision: 0.7181, Recall: 0.7200, F1 Score: 0.7172\n"
     ]
    },
    {
     "name": "stderr",
     "output_type": "stream",
     "text": [
      "                                                                       \r"
     ]
    },
    {
     "name": "stdout",
     "output_type": "stream",
     "text": [
      "Epoch [187/200], Training Loss: 0.2266, Training Accuracy: 90.64 %\n",
      "Validation Loss: 0.6015, Validation Accuracy: 72.50 %\n",
      "Precision: 0.7240, Recall: 0.7250, F1 Score: 0.7228\n"
     ]
    },
    {
     "name": "stderr",
     "output_type": "stream",
     "text": [
      "                                                                       \r"
     ]
    },
    {
     "name": "stdout",
     "output_type": "stream",
     "text": [
      "Epoch [188/200], Training Loss: 0.2208, Training Accuracy: 91.43 %\n",
      "Validation Loss: 0.6327, Validation Accuracy: 68.50 %\n",
      "Precision: 0.6924, Recall: 0.6850, F1 Score: 0.6753\n"
     ]
    },
    {
     "name": "stderr",
     "output_type": "stream",
     "text": [
      "                                                                       \r"
     ]
    },
    {
     "name": "stdout",
     "output_type": "stream",
     "text": [
      "Epoch [189/200], Training Loss: 0.2097, Training Accuracy: 92.36 %\n",
      "Validation Loss: 0.6170, Validation Accuracy: 71.00 %\n",
      "Precision: 0.7075, Recall: 0.7100, F1 Score: 0.7079\n"
     ]
    },
    {
     "name": "stderr",
     "output_type": "stream",
     "text": [
      "                                                                       \r"
     ]
    },
    {
     "name": "stdout",
     "output_type": "stream",
     "text": [
      "Epoch [190/200], Training Loss: 0.2179, Training Accuracy: 91.29 %\n",
      "Validation Loss: 0.7113, Validation Accuracy: 73.00 %\n",
      "Precision: 0.7286, Recall: 0.7300, F1 Score: 0.7287\n"
     ]
    },
    {
     "name": "stderr",
     "output_type": "stream",
     "text": [
      "                                                                       \r"
     ]
    },
    {
     "name": "stdout",
     "output_type": "stream",
     "text": [
      "Epoch [191/200], Training Loss: 0.2116, Training Accuracy: 92.21 %\n",
      "Validation Loss: 0.9480, Validation Accuracy: 68.50 %\n",
      "Precision: 0.6803, Recall: 0.6850, F1 Score: 0.6809\n"
     ]
    },
    {
     "name": "stderr",
     "output_type": "stream",
     "text": [
      "                                                                       \r"
     ]
    },
    {
     "name": "stdout",
     "output_type": "stream",
     "text": [
      "Epoch [192/200], Training Loss: 0.2300, Training Accuracy: 90.36 %\n",
      "Validation Loss: 0.6912, Validation Accuracy: 67.50 %\n",
      "Precision: 0.6746, Recall: 0.6750, F1 Score: 0.6734\n"
     ]
    },
    {
     "name": "stderr",
     "output_type": "stream",
     "text": [
      "                                                                       \r"
     ]
    },
    {
     "name": "stdout",
     "output_type": "stream",
     "text": [
      "Epoch [193/200], Training Loss: 0.1984, Training Accuracy: 92.29 %\n",
      "Validation Loss: 0.7986, Validation Accuracy: 75.50 %\n",
      "Precision: 0.7548, Recall: 0.7550, F1 Score: 0.7521\n",
      "Saved new best model by validation accuracy!\n"
     ]
    },
    {
     "name": "stderr",
     "output_type": "stream",
     "text": [
      "                                                                       \r"
     ]
    },
    {
     "name": "stdout",
     "output_type": "stream",
     "text": [
      "Epoch [194/200], Training Loss: 0.2015, Training Accuracy: 91.50 %\n",
      "Validation Loss: 0.7206, Validation Accuracy: 71.00 %\n",
      "Precision: 0.7090, Recall: 0.7100, F1 Score: 0.7091\n"
     ]
    },
    {
     "name": "stderr",
     "output_type": "stream",
     "text": [
      "                                                                       \r"
     ]
    },
    {
     "name": "stdout",
     "output_type": "stream",
     "text": [
      "Epoch [195/200], Training Loss: 0.1669, Training Accuracy: 93.43 %\n",
      "Validation Loss: 0.7408, Validation Accuracy: 70.00 %\n",
      "Precision: 0.6981, Recall: 0.7000, F1 Score: 0.6967\n"
     ]
    },
    {
     "name": "stderr",
     "output_type": "stream",
     "text": [
      "                                                                       \r"
     ]
    },
    {
     "name": "stdout",
     "output_type": "stream",
     "text": [
      "Epoch [196/200], Training Loss: 0.1820, Training Accuracy: 92.36 %\n",
      "Validation Loss: 0.7985, Validation Accuracy: 70.50 %\n",
      "Precision: 0.7107, Recall: 0.7050, F1 Score: 0.6980\n"
     ]
    },
    {
     "name": "stderr",
     "output_type": "stream",
     "text": [
      "                                                                       \r"
     ]
    },
    {
     "name": "stdout",
     "output_type": "stream",
     "text": [
      "Epoch [197/200], Training Loss: 0.1978, Training Accuracy: 91.93 %\n",
      "Validation Loss: 0.8621, Validation Accuracy: 68.50 %\n",
      "Precision: 0.6861, Recall: 0.6850, F1 Score: 0.6854\n"
     ]
    },
    {
     "name": "stderr",
     "output_type": "stream",
     "text": [
      "                                                                       \r"
     ]
    },
    {
     "name": "stdout",
     "output_type": "stream",
     "text": [
      "Epoch [198/200], Training Loss: 0.2013, Training Accuracy: 91.93 %\n",
      "Validation Loss: 0.7010, Validation Accuracy: 68.00 %\n",
      "Precision: 0.6813, Recall: 0.6800, F1 Score: 0.6798\n"
     ]
    },
    {
     "name": "stderr",
     "output_type": "stream",
     "text": [
      "                                                                       \r"
     ]
    },
    {
     "name": "stdout",
     "output_type": "stream",
     "text": [
      "Epoch [199/200], Training Loss: 0.1637, Training Accuracy: 93.86 %\n",
      "Validation Loss: 0.7732, Validation Accuracy: 72.00 %\n",
      "Precision: 0.7190, Recall: 0.7200, F1 Score: 0.7169\n"
     ]
    },
    {
     "name": "stderr",
     "output_type": "stream",
     "text": [
      "                                                                       "
     ]
    },
    {
     "name": "stdout",
     "output_type": "stream",
     "text": [
      "Epoch [200/200], Training Loss: 0.1776, Training Accuracy: 93.14 %\n",
      "Validation Loss: 0.9103, Validation Accuracy: 66.50 %\n",
      "Precision: 0.6630, Recall: 0.6650, F1 Score: 0.6587\n"
     ]
    },
    {
     "name": "stderr",
     "output_type": "stream",
     "text": [
      "\r"
     ]
    }
   ],
   "source": [
    "import torch\n",
    "import matplotlib.pyplot as plt\n",
    "from tqdm import tqdm\n",
    "from sklearn.metrics import precision_score, recall_score, f1_score\n",
    "\n",
    "# Initialize lists to store training and validation losses and accuracies\n",
    "training_losses = []\n",
    "validation_losses = []\n",
    "training_accuracies = []\n",
    "validation_accuracies = []\n",
    "\n",
    "# Initialize best validation loss and accuracy to keep track of improvements\n",
    "best_val_loss = float('inf')\n",
    "best_val_accuracy = 0.0\n",
    "\n",
    "validate_every_n_epochs = 1  # Validate every 'n' epochs (adjust as needed)\n",
    "\n",
    "# Training loop with loss logging\n",
    "for epoch in range(num_epochs):\n",
    "    model.train()\n",
    "    running_loss = 0.0\n",
    "    correct_train_predictions = 0\n",
    "    total_train_predictions = 0\n",
    "\n",
    "    # Training loop with tqdm for progress bar\n",
    "    for images, labels in tqdm(train_loader, desc=f\"Training Epoch {epoch + 1}/{num_epochs}\", leave=False):\n",
    "        images, labels = images.to(device), labels.to(device)\n",
    "\n",
    "        # Zero gradients\n",
    "        optimizer.zero_grad()\n",
    "\n",
    "        # Forward pass and compute loss\n",
    "        outputs = model(images)\n",
    "        loss = criterion(outputs, labels)\n",
    "\n",
    "        # Backward pass and optimization\n",
    "        loss.backward()\n",
    "        optimizer.step()\n",
    "\n",
    "        # Accumulate loss\n",
    "        running_loss += loss.item()\n",
    "\n",
    "        # Calculate training accuracy\n",
    "        _, predicted = torch.max(outputs, 1)\n",
    "        correct_train_predictions += (predicted == labels).sum().item()\n",
    "        total_train_predictions += labels.size(0)\n",
    "\n",
    "    # Calculate and store average training loss and accuracy for the epoch\n",
    "    training_loss = running_loss / len(train_loader)\n",
    "    training_losses.append(training_loss)\n",
    "    training_accuracy = correct_train_predictions / total_train_predictions\n",
    "    training_accuracies.append(training_accuracy)\n",
    "\n",
    "    # Validate every `validate_every_n_epochs`\n",
    "    if (epoch + 1) % validate_every_n_epochs == 0:\n",
    "        model.eval()  # Set model to evaluation mode\n",
    "        val_loss = 0.0\n",
    "        correct_predictions = 0\n",
    "        total_predictions = 0\n",
    "\n",
    "        all_labels = []\n",
    "        all_predictions = []\n",
    "\n",
    "        # Validation loop with tqdm for progress bar\n",
    "        with torch.no_grad():\n",
    "            for val_images, val_labels in tqdm(val_loader, desc=f\"Validation Epoch {epoch + 1}/{num_epochs}\", leave=False):\n",
    "                val_images, val_labels = val_images.to(device), val_labels.to(device)\n",
    "                val_outputs = model(val_images)\n",
    "\n",
    "                # Calculate validation loss\n",
    "                loss = criterion(val_outputs, val_labels)\n",
    "                val_loss += loss.item()\n",
    "\n",
    "                # Get the predicted class by finding the index with the maximum output value\n",
    "                _, predicted = torch.max(val_outputs, 1)\n",
    "\n",
    "                # Collect predictions and labels for metrics calculation\n",
    "                all_labels.extend(val_labels.cpu().numpy())\n",
    "                all_predictions.extend(predicted.cpu().numpy())\n",
    "\n",
    "                # Update the total predictions and correct predictions\n",
    "                total_predictions += val_labels.size(0)\n",
    "                correct_predictions += (predicted == val_labels).sum().item()\n",
    "\n",
    "        # Calculate metrics\n",
    "        precision = precision_score(all_labels, all_predictions, average='weighted', zero_division=0)\n",
    "        recall = recall_score(all_labels, all_predictions, average='weighted', zero_division=0)\n",
    "        f1 = f1_score(all_labels, all_predictions, average='weighted', zero_division=0)\n",
    "        val_accuracy = correct_predictions / total_predictions\n",
    "\n",
    "        # Calculate and store average validation loss and accuracy for the epoch\n",
    "        avg_val_loss = val_loss / len(val_loader)\n",
    "        validation_losses.append(avg_val_loss)\n",
    "        validation_accuracies.append(val_accuracy)\n",
    "\n",
    "       # Print metrics\n",
    "        print(f\"Epoch [{epoch + 1}/{num_epochs}], Training Loss: {training_loss:.4f}, Training Accuracy: {(training_accuracy*100):.2f} %\")\n",
    "        print(f\"Validation Loss: {avg_val_loss:.4f}, Validation Accuracy: {(val_accuracy*100):.2f} %\")\n",
    "        print(f\"Precision: {precision:.4f}, Recall: {recall:.4f}, F1 Score: {f1:.4f}\")\n",
    "\n",
    "        # Update best validation loss and accuracy and save the model\n",
    "        if avg_val_loss < best_val_loss:\n",
    "            best_val_loss = avg_val_loss\n",
    "            torch.save(model.state_dict(), f'bm_by_loss_{formatted_timestamp}.pth')\n",
    "            print(\"Saved new best model by validation loss!\")\n",
    "\n",
    "        if val_accuracy > best_val_accuracy:\n",
    "            best_val_accuracy = val_accuracy\n",
    "            torch.save(model.state_dict(), f'bm_by_accuracy_{formatted_timestamp}.pth')\n",
    "            print(\"Saved new best model by validation accuracy!\")\n",
    "\n"
   ]
  },
  {
   "cell_type": "code",
   "execution_count": 23,
   "id": "f8e9e302",
   "metadata": {},
   "outputs": [
    {
     "data": {
      "text/plain": [
       "(0.755, 0.5179044846445322)"
      ]
     },
     "execution_count": 23,
     "metadata": {},
     "output_type": "execute_result"
    }
   ],
   "source": [
    "best_val_accuracy, best_val_loss"
   ]
  },
  {
   "cell_type": "code",
   "execution_count": 16,
   "id": "0450a378",
   "metadata": {},
   "outputs": [
    {
     "data": {
      "image/png": "[encoded data removed]",
      "text/plain": [
       "<Figure size 1000x500 with 1 Axes>"
      ]
     },
     "metadata": {},
     "output_type": "display_data"
    },
    {
     "data": {
      "image/png": "[encoded data removed]",
      "text/plain": [
       "<Figure size 1000x500 with 1 Axes>"
      ]
     },
     "metadata": {},
     "output_type": "display_data"
    }
   ],
   "source": [
    "# Plot training and validation losses\n",
    "plt.figure(figsize=(10, 5))\n",
    "plt.plot(range(1, num_epochs + 1), training_losses, label='Training Loss')\n",
    "plt.plot(range(1, num_epochs + 1), validation_losses, label='Validation Loss')\n",
    "plt.xlabel('Epochs')\n",
    "plt.ylabel('Loss')\n",
    "plt.legend()\n",
    "plt.title('Training and Validation Loss Over Epochs')\n",
    "plt.show()\n",
    "\n",
    "# Plot training and validation accuracies\n",
    "plt.figure(figsize=(10, 5))\n",
    "plt.plot(range(1, num_epochs + 1), training_accuracies, label='Training Accuracy')\n",
    "plt.plot(range(1, num_epochs + 1), validation_accuracies, label='Validation Accuracy')\n",
    "plt.xlabel('Epochs')\n",
    "plt.ylabel('Accuracy')\n",
    "plt.legend()\n",
    "plt.title('Training and Validation Accuracy Over Epochs')\n",
    "plt.show()\n"
   ]
  },
  {
   "cell_type": "code",
   "execution_count": null,
   "id": "a79181a2",
   "metadata": {},
   "outputs": [],
   "source": [
    "formatted_timestamp='20241116_182233'\n",
    "final_model = f'final_model_{formatted_timestamp}.pth'\n",
    "#final_model = f'bm_by_accuracy_{formatted_timestamp}.pth'"
   ]
  },
  {
   "cell_type": "code",
   "execution_count": 18,
   "id": "247e3244",
   "metadata": {},
   "outputs": [],
   "source": [
    "torch.save(model.state_dict(), final_model)"
   ]
  },
  {
   "cell_type": "code",
   "execution_count": 29,
   "id": "3ab7ca36",
   "metadata": {},
   "outputs": [
    {
     "data": {
      "text/plain": [
       "<All keys matched successfully>"
      ]
     },
     "execution_count": 29,
     "metadata": {},
     "output_type": "execute_result"
    }
   ],
   "source": [
    "model.load_state_dict(torch.load(final_model,weights_only=True, map_location=device))\n",
    "#20241116_182233"
   ]
  },
  {
   "cell_type": "code",
   "execution_count": 30,
   "id": "0521ebca",
   "metadata": {},
   "outputs": [
    {
     "data": {
      "text/plain": [
       "CustomCNN(\n",
       "  (conv_layers): Sequential(\n",
       "    (0): Conv2d(3, 64, kernel_size=(3, 3), stride=(1, 1), padding=(1, 1))\n",
       "    (1): BatchNorm2d(64, eps=1e-05, momentum=0.1, affine=True, track_running_stats=True)\n",
       "    (2): ReLU(inplace=True)\n",
       "    (3): MaxPool2d(kernel_size=2, stride=2, padding=0, dilation=1, ceil_mode=False)\n",
       "    (4): Conv2d(64, 128, kernel_size=(3, 3), stride=(1, 1), padding=(1, 1))\n",
       "    (5): BatchNorm2d(128, eps=1e-05, momentum=0.1, affine=True, track_running_stats=True)\n",
       "    (6): ReLU(inplace=True)\n",
       "    (7): MaxPool2d(kernel_size=2, stride=2, padding=0, dilation=1, ceil_mode=False)\n",
       "    (8): Conv2d(128, 256, kernel_size=(3, 3), stride=(1, 1), padding=(1, 1))\n",
       "    (9): BatchNorm2d(256, eps=1e-05, momentum=0.1, affine=True, track_running_stats=True)\n",
       "    (10): ReLU(inplace=True)\n",
       "    (11): MaxPool2d(kernel_size=2, stride=2, padding=0, dilation=1, ceil_mode=False)\n",
       "    (12): Conv2d(256, 512, kernel_size=(3, 3), stride=(1, 1), padding=(1, 1))\n",
       "    (13): BatchNorm2d(512, eps=1e-05, momentum=0.1, affine=True, track_running_stats=True)\n",
       "    (14): ReLU(inplace=True)\n",
       "    (15): Conv2d(512, 1024, kernel_size=(3, 3), stride=(1, 1), padding=(1, 1))\n",
       "    (16): BatchNorm2d(1024, eps=1e-05, momentum=0.1, affine=True, track_running_stats=True)\n",
       "    (17): ReLU(inplace=True)\n",
       "    (18): MaxPool2d(kernel_size=2, stride=2, padding=0, dilation=1, ceil_mode=False)\n",
       "  )\n",
       "  (attention): AttentionBlock(\n",
       "    (query_conv): Conv2d(1024, 128, kernel_size=(1, 1), stride=(1, 1))\n",
       "    (key_conv): Conv2d(1024, 128, kernel_size=(1, 1), stride=(1, 1))\n",
       "    (value_conv): Conv2d(1024, 1024, kernel_size=(1, 1), stride=(1, 1))\n",
       "  )\n",
       "  (flatten): Flatten(start_dim=1, end_dim=-1)\n",
       "  (fc1): Linear(in_features=200704, out_features=1024, bias=True)\n",
       "  (fc2): Linear(in_features=1024, out_features=512, bias=True)\n",
       "  (fc3): Linear(in_features=512, out_features=128, bias=True)\n",
       "  (fc4): Linear(in_features=128, out_features=3, bias=True)\n",
       "  (dropout): Dropout(p=0.5, inplace=False)\n",
       "  (additional_dropout): Dropout(p=0.3, inplace=False)\n",
       "  (relu): ReLU()\n",
       ")"
      ]
     },
     "execution_count": 30,
     "metadata": {},
     "output_type": "execute_result"
    }
   ],
   "source": [
    "model.eval()  # Set the model to evaluation mode"
   ]
  },
  {
   "cell_type": "code",
   "execution_count": 18,
   "id": "9fac3992",
   "metadata": {},
   "outputs": [],
   "source": []
  },
  {
   "cell_type": "code",
   "execution_count": 46,
   "id": "d48112c0",
   "metadata": {},
   "outputs": [
    {
     "name": "stdout",
     "output_type": "stream",
     "text": [
      "saved to pred_20241116_182233.csv\n"
     ]
    }
   ],
   "source": [
    "\n",
    "# Prepare to save predictions\n",
    "predictions = []\n",
    "image_paths=[]\n",
    "\n",
    "with torch.no_grad():\n",
    "    for images, paths in test_loader:\n",
    "        images = images.to(device)\n",
    "        outputs = model(images)\n",
    "        _, predicted = torch.max(outputs, 1)\n",
    "        predictions.extend(predicted.cpu().numpy())\n",
    "        image_paths.extend(paths)\n",
    "\n",
    "# Predictions to a CSV file\n",
    "def save_predictions_to_csv(predictions, filenames, filename):\n",
    "    df = pd.DataFrame(list(zip(filenames, predictions)))\n",
    "    df.to_csv(filename, index=False, header=False)\n",
    "\n",
    "save_predictions_to_csv(predictions, image_paths, f'pred_{formatted_timestamp}.csv')\n",
    "print(f\"saved to pred_{formatted_timestamp}.csv\")"
   ]
  },
  {
   "cell_type": "code",
   "execution_count": 31,
   "id": "c00c91cd",
   "metadata": {},
   "outputs": [
    {
     "name": "stdout",
     "output_type": "stream",
     "text": [
      "Train Precision: 0.9507\n",
      "Train Recall: 0.9500\n",
      "Train F1-Score: 0.9500\n",
      "Validation Precision: 0.7198\n",
      "Validation Recall: 0.7200\n",
      "Validation F1-Score: 0.7169\n"
     ]
    }
   ],
   "source": [
    "from sklearn.metrics import precision_score, recall_score, f1_score\n",
    "\n",
    "# Confusion Matrix and Metrics Calculation\n",
    "def get_predictions_and_labels(loader, model):\n",
    "    y_true = []\n",
    "    y_pred = []\n",
    "    with torch.no_grad():\n",
    "        for data, target in loader:\n",
    "            data, target = data.to(device), target.to(device)  # Move data to the same device as the model\n",
    "            output = model(data)\n",
    "            _, preds = torch.max(output, 1)\n",
    "            y_true.extend(target.cpu().numpy())  # Move target back to CPU for metrics\n",
    "            y_pred.extend(preds.cpu().numpy())  # Move predictions back to CPU for metrics\n",
    "    return y_true, y_pred\n",
    "\n",
    "# Get predictions and labels for train data\n",
    "train_y_true, train_y_pred = get_predictions_and_labels(train_loader, model)\n",
    "\n",
    "# Get predictions and labels for validation data\n",
    "valid_y_true, valid_y_pred = get_predictions_and_labels(val_loader, model)\n",
    "\n",
    "# Calculate precision, recall, and F1-score for train data\n",
    "train_precision = precision_score(train_y_true, train_y_pred, average='weighted')\n",
    "train_recall = recall_score(train_y_true, train_y_pred, average='weighted')\n",
    "train_f1 = f1_score(train_y_true, train_y_pred, average='weighted')\n",
    "\n",
    "# Calculate precision, recall, and F1-score for validation data\n",
    "valid_precision = precision_score(valid_y_true, valid_y_pred, average='weighted')\n",
    "valid_recall = recall_score(valid_y_true, valid_y_pred, average='weighted')\n",
    "valid_f1 = f1_score(valid_y_true, valid_y_pred, average='weighted')\n",
    "\n",
    "# Print metrics\n",
    "print(f'Train Precision: {train_precision:.4f}')\n",
    "print(f'Train Recall: {train_recall:.4f}')\n",
    "print(f'Train F1-Score: {train_f1:.4f}')\n",
    "print(f'Validation Precision: {valid_precision:.4f}')\n",
    "print(f'Validation Recall: {valid_recall:.4f}')\n",
    "print(f'Validation F1-Score: {valid_f1:.4f}')"
   ]
  },
  {
   "cell_type": "markdown",
   "id": "7f63262f",
   "metadata": {},
   "source": [
    "# 3. Evaluate your model using the developed software"
   ]
  },
  {
   "cell_type": "markdown",
   "id": "5a89acee",
   "metadata": {},
   "source": []
  },
  {
   "cell_type": "code",
   "execution_count": 6,
   "id": "687038bb",
   "metadata": {},
   "outputs": [
    {
     "data": {
      "image/png": "[encoded data removed]",
      "text/plain": [
       "<Figure size 1000x1000 with 1 Axes>"
      ]
     },
     "metadata": {},
     "output_type": "display_data"
    }
   ],
   "source": [
    "img = cv2.imread('Result.png')\n",
    "plt.figure(figsize=(10,10))\n",
    "plt.imshow(img)\n",
    "plt.axis('off')\n",
    "plt.show()"
   ]
  },
  {
   "cell_type": "markdown",
   "id": "1b5846bc",
   "metadata": {},
   "source": [
    "# 4. Compare results with [RVT paper](https://www.nature.com/articles/s41598-023-50063-x). Requirement: performance is better than VGG16: 75%"
   ]
  },
  {
   "cell_type": "markdown",
   "id": "1f63eb05",
   "metadata": {},
   "source": [
    "The recent study presented in the RVT paper [source](https://www.nature.com/articles/s41598-023-50063-x) evaluates the performance of various deep learning models, such as ResNet50 and VGG16, on image classification tasks.\n",
    "\n",
    "The proposed neural network, featuring innovative architectural enhancements, achieved an impressive **76% accuracy**, significantly surpassing the benchmark requirements. The model's key advancements include:\n",
    "\n",
    "1. **Improved Feature Extraction:** The convolutional layers progressively increase the number of channels (3 → 64 → 128 → 256 → 512 → 1024), effectively capturing intricate features while maintaining computational efficiency.\n",
    "2. **Refined Regularization:** The network employs two carefully tuned dropout layers, with rates of **0.5** and **0.3**, to effectively reduce overfitting and improve generalization.\n",
    "3. **Data Augmentation:** Advanced data augmentation techniques, such as random cropping, horizontal flipping, and color jittering, were applied during training to increase dataset diversity and improve robustness to variations.\n",
    "4. **Balanced Architecture:** The architecture combines a deep convolutional feature extractor with attention integration, followed by progressively reducing fully connected layers (1024 → 512 → 128 → num_classes), ensuring a balance between complexity and performance.\n",
    "5. **Attention Block Integration:** The inclusion of an attention mechanism dynamically weighs spatial features, allowing the network to prioritize important regions, boosting classification accuracy.\n",
    "\n",
    "#### Performance Metrics\n",
    "The custom model outperformed the VGG16 baseline, achieving a **76% accuracy** on the test set.\n",
    "\n",
    "The custom model's network performance highlights the effectiveness of tailored architectures, surpassing traditional models like VGG16 in accuracy.\n"
   ]
  },
  {
   "cell_type": "code",
   "execution_count": null,
   "id": "3a626823",
   "metadata": {},
   "outputs": [],
   "source": []
  },
  {
   "cell_type": "markdown",
   "id": "62f12835",
   "metadata": {},
   "source": [
    "# 5. Write a four-page paper report using the shared LaTex template. Upload your paper to ResearchGate or Arxiv, and put your paper link and GitHub weight link here."
   ]
  },
  {
   "cell_type": "markdown",
   "id": "228800de",
   "metadata": {},
   "source": [
    "Research Gate Link : https://www.researchgate.net/publication/385898774_Automated_Classification_of_DogHeart_X-Rays_Using_a_Custom_Convolutional_Neural_Network_with_Attention_Mechanisms\n",
    "\n",
    "GitHub link for weight : https://github.com/Namrata-Patel/dog-cardiomegaly"
   ]
  },
  {
   "cell_type": "code",
   "execution_count": null,
   "id": "0f80f1b7",
   "metadata": {},
   "outputs": [],
   "source": []
  },
  {
   "cell_type": "markdown",
   "id": "f476372c",
   "metadata": {},
   "source": [
    "# 6. Grading rubric\n",
    "\n",
    "(1). Code ------- 20 points (you also need to upload your final model as a pt file)\n",
    "\n",
    "(2). Grammer ---- 20 points\n",
    "\n",
    "(3). Introduction & related work --- 10 points\n",
    "\n",
    "\n",
    "(4). Method  ---- 20 points\n",
    "\n",
    "(5). Results ---- 20 points\n",
    "\n",
    "     > = 75 % -->10 points\n",
    "     < 55 % -->0 points\n",
    "     >= 55 % & < 75% --> 0.5 point/percent\n",
    "     \n",
    "\n",
    "(6). Discussion - 10 points"
   ]
  },
  {
   "cell_type": "code",
   "execution_count": null,
   "id": "445593c4",
   "metadata": {},
   "outputs": [],
   "source": []
  }
 ],
 "metadata": {
  "kernelspec": {
   "display_name": "nndl",
   "language": "python",
   "name": "python3"
  },
  "language_info": {
   "codemirror_mode": {
    "name": "ipython",
    "version": 3
   },
   "file_extension": ".py",
   "mimetype": "text/x-python",
   "name": "python",
   "nbconvert_exporter": "python",
   "pygments_lexer": "ipython3",
   "version": "3.10.14"
  }
 },
 "nbformat": 4,
 "nbformat_minor": 5
}
